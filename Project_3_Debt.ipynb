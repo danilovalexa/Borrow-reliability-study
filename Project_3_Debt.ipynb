{
 "cells": [
  {
   "cell_type": "markdown",
   "metadata": {},
   "source": [
    "# Исследование надёжности заёмщиков\n",
    "\n",
    "Заказчик — кредитный отдел банка. Нужно разобраться, влияет ли семейное положение и количество детей клиента на факт погашения кредита в срок. Входные данные от банка — статистика о платёжеспособности клиентов.\n",
    "\n",
    "Результаты исследования будут учтены при построении модели **кредитного скоринга** — специальной системы, которая оценивает способность потенциального заёмщика вернуть кредит банку."
   ]
  },
  {
   "cell_type": "markdown",
   "metadata": {},
   "source": [
    "## Шаг 1. Откройте файл с данными и изучите общую информацию"
   ]
  },
  {
   "cell_type": "code",
   "execution_count": null,
   "metadata": {},
   "outputs": [],
   "source": [
    "import pandas as pd\n",
    "#импорт библиотеки Pandas как pd\n",
    "data = pd.read_csv('/datasets/data.csv')\n",
    "# чтение файла data.csv, сохранение его в переменной data\n",
    "display(data.head(5))\n",
    "# вывод на экран первых десяти строк из дата-фрейма data\n"
   ]
  },
  {
   "cell_type": "code",
   "execution_count": null,
   "metadata": {
    "scrolled": true
   },
   "outputs": [],
   "source": [
    "data.info()\n",
    "# запрос общей информации о дата-фрейме с помощью метода .info()"
   ]
  },
  {
   "cell_type": "code",
   "execution_count": null,
   "metadata": {},
   "outputs": [],
   "source": [
    "display(data[data['total_income'].isna()].head(5))\n",
    "# методом isna() найдём все строки с пропусками в столбце total_income и просмотрим первые пять.\n"
   ]
  },
  {
   "cell_type": "code",
   "execution_count": null,
   "metadata": {},
   "outputs": [],
   "source": [
    "print(data['dob_years'].min())\n",
    "print(data['dob_years'].max())\n",
    "\n",
    "# c помощью функций min() и max() проверим минимальный и максимальный возрасты клиентов"
   ]
  },
  {
   "cell_type": "markdown",
   "metadata": {},
   "source": [
    "**Вывод**"
   ]
  },
  {
   "cell_type": "markdown",
   "metadata": {},
   "source": [
    "В таблице двеннадцать столбцов. \n",
    "Мы наблюдаем вида данных - `float`, `int64` и `object`.\n",
    "\n",
    "В столбцах 'days_employed' и 'total_income' значения в формате `float`. Также  имеются отрицательные значения в столбце 'days_employed'. В столбце 'dob_years' минимальное значение возраста 0. \n",
    "\n",
    "Количество значений в столбцах различается. В столбцах 'days_employed', 'total_income' имеются пропущенные значения. Пропуски в формате `NaN`. \n",
    "\n",
    "Данные могли быть пропущены по причине того, что человек не оставил в анкете именно эти данные по причине незнания (ручная ошибка, человеческий фактор), либо была проблема с выгрузкой из системы (системная ошибка). \n"
   ]
  },
  {
   "cell_type": "markdown",
   "metadata": {},
   "source": [
    "## Шаг 2. Предобработка данных"
   ]
  },
  {
   "cell_type": "markdown",
   "metadata": {},
   "source": [
    "### Обработка пропусков"
   ]
  },
  {
   "cell_type": "markdown",
   "metadata": {},
   "source": [
    "В столбцах 'days_employed', 'total_income' имеются пропущенные значения. Пропуски в формате `NaN`.\n",
    "Примем гипотизу о том, что в банк за кредитом не стали бы обращаться люди не имеющие никакого дохода а также не работающие ни одного дня. \n",
    "Следовательно каждому пропущенному значению сопоставим медианное в зависимости от типа дохода.\n",
    "Заменим отрицательные значения в столбце 'days_employed'. \n",
    "Заменим нулевые значения в столбце 'dob_years' - средним значением."
   ]
  },
  {
   "cell_type": "code",
   "execution_count": null,
   "metadata": {},
   "outputs": [],
   "source": [
    "income_unique_type = data['income_type'].unique()\n",
    "#создадим список, в котором хранятся уникальные значения столбца 'income_type'\n",
    "\n",
    "#сопоставим каждому пропущенному значению в столбце 'income_type' - медианное, в зависимости от типа дохода:\n",
    "for unique_type in income_unique_type:\n",
    "    median_total_income_by_type = data.loc[data['income_type'] == unique_type]['total_income'].median()\n",
    "    data.loc[(data['total_income'].isna()) & (data['income_type'] == unique_type),'total_income']=median_total_income_by_type\n",
    "\n",
    "#сопоставим каждому пропущенному значению в столбце 'days_employed' - медианное, в зависимости от типа дохода:\n",
    "for unique_type in income_unique_type:\n",
    "    median_total_days_by_type = data.loc[data['income_type'] == unique_type]['days_employed'].median()\n",
    "    data.loc[(data['days_employed'].isna()) & (data['income_type'] == unique_type),'days_employed']=median_total_days_by_type\n",
    "\n",
    "\n",
    "data['days_employed'] = data['days_employed'].abs()\n",
    "#заменили отрицательные значения в столбце'days_employed'\n",
    "\n",
    "\n",
    "data.loc[data['dob_years'] == 0, 'dob_years'] = data['dob_years'].mean() \n",
    "#заменили нулевые значения в возрасте - средним значением"
   ]
  },
  {
   "cell_type": "code",
   "execution_count": null,
   "metadata": {},
   "outputs": [],
   "source": [
    "data.info()\n",
    "# запрос общей информации о дата-фрейме с помощью метода .info()"
   ]
  },
  {
   "cell_type": "markdown",
   "metadata": {},
   "source": [
    "**Вывод**"
   ]
  },
  {
   "cell_type": "markdown",
   "metadata": {},
   "source": [
    "Предобработка обнаружила следующие проблемы в данных:\n",
    "- в столбцах 'days_employed', 'total_income' имелись пропущенные значения в формате `NaN`,\n",
    "- наличие отрицательных значений в столбце'days_employed',\n",
    "- нулевые значения в столбце 'dob_years'.\n",
    "\n",
    "Пропущенные значения мы заменили на медианные, отрицательные на положительные. Нулевые заменили на средние.\n"
   ]
  },
  {
   "cell_type": "markdown",
   "metadata": {},
   "source": [
    "### Замена типа данных"
   ]
  },
  {
   "cell_type": "markdown",
   "metadata": {},
   "source": [
    "В столбцах 'days_employed', 'total_income', 'dob_years' видим тип данных `float`. \n",
    "Для удобства представления данных а также расчетов, с целью избежания больших чисел после запятой. заменим тип данных на `int`."
   ]
  },
  {
   "cell_type": "code",
   "execution_count": null,
   "metadata": {},
   "outputs": [],
   "source": [
    "data = data.astype({'days_employed': 'int64', 'total_income': 'int64', 'dob_years': 'int64',})"
   ]
  },
  {
   "cell_type": "code",
   "execution_count": null,
   "metadata": {},
   "outputs": [],
   "source": [
    "data.info()\n",
    "# запрос общей информации о дата-фрейме с помощью метода .info()"
   ]
  },
  {
   "cell_type": "markdown",
   "metadata": {},
   "source": [
    "**Вывод**"
   ]
  },
  {
   "cell_type": "markdown",
   "metadata": {},
   "source": [
    "\n",
    "Мы заменили вещественный тип данных в столбцах 'days_employed', 'total_income', 'dob_years'  на целочисленный."
   ]
  },
  {
   "cell_type": "markdown",
   "metadata": {},
   "source": [
    "### Обработка дубликатов"
   ]
  },
  {
   "cell_type": "code",
   "execution_count": null,
   "metadata": {},
   "outputs": [],
   "source": [
    "print(data['education'].unique())\n",
    "#с помощью метода unique() посмотрим уникальные значения в столбце 'education'"
   ]
  },
  {
   "cell_type": "markdown",
   "metadata": {},
   "source": [
    "Мы видим дубликаты в столбце education.\n",
    "Имеются следующие уровни образования: начальное, среднее, высшее, неоконченное высшее а также ученая степень. У каждого наименования присутствуют разные регистры букв. Необходимо заменить буквы на строчные.\n",
    "\n",
    "Также проверим наличие дубликатов в дата-фрейме, при наличии - избавимся от них."
   ]
  },
  {
   "cell_type": "code",
   "execution_count": null,
   "metadata": {},
   "outputs": [],
   "source": [
    "data['education'] = data['education'].str.lower()\n",
    "# с помощью метода str.lower() приведем значения в столбце 'education' к нижнему регистру\n",
    "print(data['education'].unique())\n",
    "\n",
    "\n",
    "print(data.duplicated().sum())\n",
    "#проверим наличие дубликатов в дата-фрейме\n",
    "data = data.drop_duplicates().reset_index()\n",
    "#избавляемся от дубликатов методом drop_duplicates() вместе с reset_index\n",
    "print(data.duplicated().sum())"
   ]
  },
  {
   "cell_type": "markdown",
   "metadata": {},
   "source": [
    "**Вывод**"
   ]
  },
  {
   "cell_type": "markdown",
   "metadata": {},
   "source": [
    "Наименования данных в столбце об образовании привели к нижнему регистру, избавились от дубликатов в дата-фрейме."
   ]
  },
  {
   "cell_type": "markdown",
   "metadata": {},
   "source": [
    "### Лемматизация"
   ]
  },
  {
   "cell_type": "code",
   "execution_count": null,
   "metadata": {},
   "outputs": [],
   "source": [
    "print(data['purpose'].unique())"
   ]
  },
  {
   "cell_type": "markdown",
   "metadata": {},
   "source": [
    "В столбце 'purpose', где описаны цели получения кредита, видим, что цели получения кредита можно распределить на 4 группы: свадьба, недвижимость, автомобиль, образование.\n",
    "\n",
    "Сделаем это с помощью лемматизации."
   ]
  },
  {
   "cell_type": "code",
   "execution_count": null,
   "metadata": {},
   "outputs": [],
   "source": [
    "from pymystem3 import Mystem\n",
    "m = Mystem()\n",
    "#импортируем библиотеку pymystem3 с фунцкцией лемматизации\n",
    "data['lemmas_purpose'] = data['purpose'].apply(m.lemmatize)\n",
    "#лемматизируем столбец 'purpose' применяя функцию m.lemmatize и сохраняем данные в новом столбце - 'lemmas_purpose'\n",
    "\n",
    "#создадим функцию, которая лемматизирует столбец 'purpose', проверит наличие ключевых слов и исходя из них присвоит им группу \n",
    "def group_lemmas(purpose):\n",
    "    lemmas_row = m.lemmatize(purpose)\n",
    "    for lemma in lemmas_row:\n",
    "        if 'свадьба' in lemma:\n",
    "            return 'свадьба'\n",
    "        if 'жилье' in lemma or 'недвижимость' in lemma:\n",
    "            return 'недвижимость'\n",
    "        if 'автомобиль' in lemma:\n",
    "            return 'автомобиль'\n",
    "        if 'образование' in lemma:\n",
    "            return 'образование'\n",
    "        \n",
    "data['purpose_groups'] = data['purpose'].apply(group_lemmas)    \n",
    "\n",
    "display(data.head(5))"
   ]
  },
  {
   "cell_type": "markdown",
   "metadata": {},
   "source": [
    "**Вывод**"
   ]
  },
  {
   "cell_type": "markdown",
   "metadata": {},
   "source": [
    "После просмотра данных в столбце с целью получения кредита, мы решили, что в целом их можно разбить на несколько групп:\n",
    "- свадьба\n",
    "- недвижимость\n",
    "- автомобиль\n",
    "- образование\n",
    "\n",
    "Данное разделение осуществили с помощью процесса лемматизации. Выделили в каждой цели леммы, и в дальнейшем, с помощью функции - присвоили соответсвующие группы."
   ]
  },
  {
   "cell_type": "markdown",
   "metadata": {},
   "source": [
    "### Категоризация данных"
   ]
  },
  {
   "cell_type": "markdown",
   "metadata": {},
   "source": [
    "1. Возраст клиентов. Распределим клиентов в зависимости от возраста на три группы:\n",
    "- молодой\n",
    "- среднего возраста\n",
    "- пожилой\n",
    "\n",
    "Далее посмотрим существует ли зависимость между наличием задолженности и возрастом."
   ]
  },
  {
   "cell_type": "code",
   "execution_count": null,
   "metadata": {},
   "outputs": [],
   "source": [
    "#проверим минимальный и максимальный возраст клиентов\n",
    "# print(data['dob_years'].min())  #минимальный возраст 19\n",
    "# print(data['dob_years'].max())  #максимальный возраст 75\n",
    "\n",
    "#напишем функцию, которая в зависимости от возраста клиента - отнесет клиента к определенной категории\n",
    "def age_group(age):\n",
    "    if 18 <= age <= 35:\n",
    "        return 'молодой'\n",
    "    if 35 < age <= 55:\n",
    "        return 'среднего возраста'\n",
    "    return 'пожилой'\n",
    "\n",
    "data['age_group'] = data['dob_years'].apply(age_group)\n",
    "\n"
   ]
  },
  {
   "cell_type": "markdown",
   "metadata": {},
   "source": [
    "2. Количество детей. Распределим клиентов на три группы в зависимости от количества детей:\n",
    "- один ребенок\n",
    "- два и более детей\n",
    "- нет детей"
   ]
  },
  {
   "cell_type": "code",
   "execution_count": null,
   "metadata": {},
   "outputs": [],
   "source": [
    "#print (data['children'].value_counts()) # у 76 людей наблюдается 20 детей, у 47 по -1 ребенку\n",
    "data['children'] = abs(data['children']) #заменим количество -1 на 1, возможно была проблема с выгрузкой данных\n",
    "\n",
    "# для более корректного анализа заменим 20 детей на медианное значение,, округлим и изменим тип данных на целочисленные (дети являются целыми объектами, половины быть не может)\n",
    "data.loc[data['children'] == 20, 'children'] = data['children'].median().round().astype('int') \n",
    "    \n",
    "#print (data['children'].value_counts()) #теперь максимальное количество детей 5\n",
    "\n",
    "# напишем функцию, которая в зависимости от количества людей - отнесет клиента к определенной категории\n",
    "def having_kids(number_of_children):\n",
    "    if number_of_children == 1:\n",
    "        return 'один ребенок'\n",
    "    if number_of_children >1:\n",
    "        return 'два и более детей'\n",
    "    return 'нет детей'\n",
    "\n",
    "data['children_category'] = data['children'].apply(having_kids)\n",
    "#display(data.head(5))\n",
    "\n"
   ]
  },
  {
   "cell_type": "markdown",
   "metadata": {},
   "source": [
    "3. Уровень дохода. Распределим клиентов банка по уровням доходов. Мы видим следующие типы занятости:\n",
    "- сотрудник\n",
    "- компаньон\n",
    "- госслужащий\n",
    "- предприниматель\n",
    "- пенсионер\n",
    "- в декрете\n",
    "- студент\n",
    "- безработный\n",
    "\n",
    "Практически в каждом виде занятости видим, что по уровням доходов можно разбить клиентов на несколько групп:\n",
    "- низкий уровень дохода \n",
    "- средний уровень дохода\n",
    "- состоятельные люди\n",
    "- богатые\n",
    "\n",
    "Безработных, в декрете, студентов а также предпринимателей можно исключить из анализа в виду ограниченного набора данных (по 1 или 2 клиенту на каждую группу)."
   ]
  },
  {
   "cell_type": "code",
   "execution_count": null,
   "metadata": {},
   "outputs": [],
   "source": [
    "#в каждой группе по типу занятости посмотрим минимальное,максимальное и медианное значение дохода для дальшейшего распределения по групам\n",
    "unique_income_type_groups = data['income_type'].unique()\n",
    "\n",
    "for group in unique_income_type_groups:\n",
    "    min_value_of_income= data[data['income_type'] == group]['total_income'].min()\n",
    "    max_value_of_income= data[data['income_type'] == group]['total_income'].max()\n",
    "    median_value_of_income= data[data['income_type'] == group]['total_income'].median()\n",
    "    #print(group, min_value_of_income, max_value_of_income, median_value_of_income)\n"
   ]
  },
  {
   "cell_type": "code",
   "execution_count": null,
   "metadata": {},
   "outputs": [],
   "source": [
    "#напишем функцию, которая в зависимости от уровня дохода - отнесет клиента к определенной категории\n",
    "#отнесем людей с уровне дохода до 30 тыс. руб. к людям с низким уровнем дохода, \n",
    "#от 30 до 90 тыс. руб к людям со средним доходом, \n",
    "# от 90 до 200 тыс. руб. к состоятельным, от 200 и выше к богатым\n",
    "\n",
    "def income_group(income):\n",
    "    if income <= 30000:\n",
    "        return 'низкий уровень дохода'\n",
    "    if 30000 < income <= 100000:\n",
    "        return 'средний уровень дохода'\n",
    "    if 100000 < income <= 200000:\n",
    "        return 'состоятельные'        \n",
    "    return 'богатые'        \n",
    "    \n",
    "data['income_category'] = data['total_income'].apply(income_group)  \n",
    "#display(data.head(5))\n",
    "\n",
    "        "
   ]
  },
  {
   "cell_type": "markdown",
   "metadata": {},
   "source": [
    "**Вывод**"
   ]
  },
  {
   "cell_type": "markdown",
   "metadata": {},
   "source": [
    "Мы распределили данные по категориям: по возрасту, количеству детей а также уровню доходов исходя из типа получения дохода."
   ]
  },
  {
   "cell_type": "markdown",
   "metadata": {},
   "source": [
    "## Шаг 3. Ответьте на вопросы"
   ]
  },
  {
   "cell_type": "markdown",
   "metadata": {},
   "source": [
    "- Есть ли зависимость между возрастом и возвратом кредита в срок?"
   ]
  },
  {
   "cell_type": "code",
   "execution_count": null,
   "metadata": {},
   "outputs": [],
   "source": [
    "data_pivot_age = data.pivot_table('debt', index='age_group', aggfunc=['count','sum','mean'])\n",
    "display(data_pivot_age) \n"
   ]
  },
  {
   "cell_type": "markdown",
   "metadata": {},
   "source": [
    "**Вывод**"
   ]
  },
  {
   "cell_type": "markdown",
   "metadata": {},
   "source": [
    "Исходя из результатов видим, что чем старше люди - тем меньше задолженностей. Банку предпочтительнее выдавать кредиты людям более старшего возраста, нежели молодым."
   ]
  },
  {
   "cell_type": "markdown",
   "metadata": {},
   "source": [
    "- Есть ли зависимость между наличием детей и возвратом кредита в срок?"
   ]
  },
  {
   "cell_type": "code",
   "execution_count": null,
   "metadata": {},
   "outputs": [],
   "source": [
    "data_pivot_children = data.pivot_table('debt', index='children_category', aggfunc=['count','sum','mean'])\n",
    "display(data_pivot_children) \n"
   ]
  },
  {
   "cell_type": "markdown",
   "metadata": {},
   "source": [
    "**Вывод**"
   ]
  },
  {
   "cell_type": "markdown",
   "metadata": {},
   "source": [
    "Чем больше детей у клиента - тем больше риск невозврата кредита. Причиной могут быть риски, связанные с дополнительными тратами, которые люди с детьми могут понести."
   ]
  },
  {
   "cell_type": "markdown",
   "metadata": {},
   "source": [
    "- Есть ли зависимость между семейным положением и возвратом кредита в срок?"
   ]
  },
  {
   "cell_type": "code",
   "execution_count": null,
   "metadata": {},
   "outputs": [],
   "source": [
    "data_pivot_family = data.pivot_table('debt', index='family_status', aggfunc=['count','sum','mean'])\n",
    "display(data_pivot_family) "
   ]
  },
  {
   "cell_type": "markdown",
   "metadata": {},
   "source": [
    "**Вывод**"
   ]
  },
  {
   "cell_type": "markdown",
   "metadata": {},
   "source": [
    "Семейным людям кредиты дают охотнее, нежели тем, кто не замужем/женат, либо находится в гражданском браке. Вдовцам а также людям в разводе кредиты также дают чаще. Возможно, это определяется степенью ответсвенности людей в той или иной категории."
   ]
  },
  {
   "cell_type": "markdown",
   "metadata": {},
   "source": [
    "- Есть ли зависимость между уровнем дохода и возвратом кредита в срок?"
   ]
  },
  {
   "cell_type": "code",
   "execution_count": null,
   "metadata": {},
   "outputs": [],
   "source": [
    "#вначале отфильтруем данные, т.е будем рассматривать для анализа только следующие типы занятости:\n",
    "# госслужащие, компаньоны, пенсионеры и сотрудники \n",
    "#(безработных, в декрете, студентов и предпринимателей исключаем ввиду небольшого количества позиций на каждый тип (1-2))\n",
    "data_income = data[(data['income_type'] == 'сотрудник') | (data['income_type'] == 'пенсионер') | (data['income_type'] == 'госслужащий') | (data['income_type'] == 'компаньон')]\n",
    "data_pivot_income_type = data_income.pivot_table('debt', index='income_type', columns='income_category', aggfunc=['count','sum','mean'])\n",
    "display(data_pivot_income_type)"
   ]
  },
  {
   "cell_type": "markdown",
   "metadata": {},
   "source": [
    "**Вывод**"
   ]
  },
  {
   "cell_type": "markdown",
   "metadata": {},
   "source": [
    "Если рассматривать результаты, начиная со среднего уровня заработка (в категорию бедные скорее всего попало небольшое количество элементов выборки) - пенсионеры являются самыми отвественными клиентами и возвращают кредиты лучше всех. Далее идут госслужащие, затем компаньоны и сотрудники. "
   ]
  },
  {
   "cell_type": "markdown",
   "metadata": {},
   "source": [
    "- Как разные цели кредита влияют на его возврат в срок?"
   ]
  },
  {
   "cell_type": "code",
   "execution_count": null,
   "metadata": {},
   "outputs": [],
   "source": [
    "data_pivot_purpose = data.pivot_table('debt', index='purpose_groups', aggfunc=['count','sum','mean'])\n",
    "display(data_pivot_purpose) "
   ]
  },
  {
   "cell_type": "markdown",
   "metadata": {},
   "source": [
    "**Вывод**"
   ]
  },
  {
   "cell_type": "markdown",
   "metadata": {},
   "source": [
    "Лучше всего кредиты возвращают клиенты у кого целью получения кредита является покупка недвижимости. Далее идет свадьба. Реже выплачивают кредиты клиенты целью которых является покупка автомобиля."
   ]
  },
  {
   "cell_type": "markdown",
   "metadata": {},
   "source": [
    "## Шаг 4. Общий вывод"
   ]
  },
  {
   "cell_type": "markdown",
   "metadata": {},
   "source": [
    "Проанализировав данные можем сделать портрет идеального клиента с максимальной вероятностью возврата кредита:\n",
    "- возраст: средний либо более старший\n",
    "- тип занятости: пенсионер либо работающий госслужащий\n",
    "- наличие детей: не имеющий детей \n",
    "- семейное положение: семейный человек, либо в разводе, либо вдовец\n",
    "- цель получения: недвижимость либо свадьба"
   ]
  }
 ],
 "metadata": {
  "ExecuteTimeLog": [
   {
    "duration": 853,
    "start_time": "2021-09-08T16:11:51.351Z"
   },
   {
    "duration": 101,
    "start_time": "2021-09-08T16:12:02.316Z"
   },
   {
    "duration": 1075,
    "start_time": "2021-09-09T12:34:03.678Z"
   },
   {
    "duration": 76,
    "start_time": "2021-09-09T12:34:35.311Z"
   },
   {
    "duration": 74,
    "start_time": "2021-09-09T12:35:19.392Z"
   },
   {
    "duration": 73,
    "start_time": "2021-09-09T12:37:07.601Z"
   },
   {
    "duration": 77,
    "start_time": "2021-09-09T12:37:27.904Z"
   },
   {
    "duration": 14,
    "start_time": "2021-09-09T12:37:30.277Z"
   },
   {
    "duration": 10,
    "start_time": "2021-09-09T13:00:43.930Z"
   },
   {
    "duration": 9,
    "start_time": "2021-09-09T13:03:00.804Z"
   },
   {
    "duration": 9,
    "start_time": "2021-09-09T13:03:20.916Z"
   },
   {
    "duration": 8,
    "start_time": "2021-09-09T13:03:38.148Z"
   },
   {
    "duration": 10,
    "start_time": "2021-09-09T13:04:01.930Z"
   },
   {
    "duration": 8,
    "start_time": "2021-09-09T13:04:19.514Z"
   },
   {
    "duration": 1363,
    "start_time": "2021-09-09T13:20:19.477Z"
   },
   {
    "duration": 7,
    "start_time": "2021-09-09T13:21:13.281Z"
   },
   {
    "duration": 3,
    "start_time": "2021-09-09T13:21:34.030Z"
   },
   {
    "duration": 5,
    "start_time": "2021-09-09T13:22:31.439Z"
   },
   {
    "duration": 8,
    "start_time": "2021-09-09T13:22:56.430Z"
   },
   {
    "duration": 313,
    "start_time": "2021-09-09T13:23:51.499Z"
   },
   {
    "duration": 21,
    "start_time": "2021-09-09T13:25:51.102Z"
   },
   {
    "duration": 9,
    "start_time": "2021-09-09T13:44:09.899Z"
   },
   {
    "duration": 14,
    "start_time": "2021-09-09T13:44:34.104Z"
   },
   {
    "duration": 9,
    "start_time": "2021-09-09T13:45:01.590Z"
   },
   {
    "duration": 7,
    "start_time": "2021-09-09T13:45:43.676Z"
   },
   {
    "duration": 15,
    "start_time": "2021-09-09T13:45:51.476Z"
   },
   {
    "duration": 78,
    "start_time": "2021-09-09T13:45:58.192Z"
   },
   {
    "duration": 81,
    "start_time": "2021-09-09T13:46:04.227Z"
   },
   {
    "duration": 14,
    "start_time": "2021-09-09T13:46:07.666Z"
   },
   {
    "duration": 14,
    "start_time": "2021-09-09T13:46:12.859Z"
   },
   {
    "duration": 7,
    "start_time": "2021-09-09T13:46:16.327Z"
   },
   {
    "duration": 7,
    "start_time": "2021-09-09T13:46:22.936Z"
   },
   {
    "duration": 8,
    "start_time": "2021-09-09T14:09:19.225Z"
   },
   {
    "duration": 5,
    "start_time": "2021-09-09T14:09:22.632Z"
   },
   {
    "duration": 75,
    "start_time": "2021-09-09T14:09:28.363Z"
   },
   {
    "duration": 78,
    "start_time": "2021-09-09T14:09:37.877Z"
   },
   {
    "duration": 14,
    "start_time": "2021-09-09T14:09:40.919Z"
   },
   {
    "duration": 14,
    "start_time": "2021-09-09T14:09:43.988Z"
   },
   {
    "duration": 6,
    "start_time": "2021-09-09T14:09:46.700Z"
   },
   {
    "duration": 7,
    "start_time": "2021-09-09T14:09:49.577Z"
   },
   {
    "duration": 6,
    "start_time": "2021-09-09T15:06:10.674Z"
   },
   {
    "duration": 9,
    "start_time": "2021-09-09T15:06:54.743Z"
   },
   {
    "duration": 6,
    "start_time": "2021-09-09T15:07:00.191Z"
   },
   {
    "duration": 7,
    "start_time": "2021-09-09T15:07:17.919Z"
   },
   {
    "duration": 7,
    "start_time": "2021-09-09T15:07:19.838Z"
   },
   {
    "duration": 16,
    "start_time": "2021-09-09T15:07:37.186Z"
   },
   {
    "duration": 8,
    "start_time": "2021-09-09T15:14:17.812Z"
   },
   {
    "duration": 8,
    "start_time": "2021-09-09T15:14:54.654Z"
   },
   {
    "duration": 9,
    "start_time": "2021-09-09T15:15:23.995Z"
   },
   {
    "duration": 13,
    "start_time": "2021-09-09T15:15:36.222Z"
   },
   {
    "duration": 14,
    "start_time": "2021-09-09T15:15:56.939Z"
   },
   {
    "duration": 18,
    "start_time": "2021-09-09T15:24:05.676Z"
   },
   {
    "duration": 9,
    "start_time": "2021-09-09T15:24:19.137Z"
   },
   {
    "duration": 5,
    "start_time": "2021-09-09T15:28:05.741Z"
   },
   {
    "duration": 8,
    "start_time": "2021-09-09T15:30:57.991Z"
   },
   {
    "duration": 9,
    "start_time": "2021-09-09T15:31:00.237Z"
   },
   {
    "duration": 419,
    "start_time": "2021-09-09T15:34:07.210Z"
   },
   {
    "duration": 3,
    "start_time": "2021-09-09T15:34:44.456Z"
   },
   {
    "duration": 903,
    "start_time": "2021-09-09T15:36:26.191Z"
   },
   {
    "duration": 942,
    "start_time": "2021-09-09T15:37:21.835Z"
   },
   {
    "duration": 403,
    "start_time": "2021-09-09T15:46:19.343Z"
   },
   {
    "duration": 913,
    "start_time": "2021-09-09T15:46:48.969Z"
   },
   {
    "duration": 14129,
    "start_time": "2021-09-09T16:01:17.646Z"
   },
   {
    "duration": 14928,
    "start_time": "2021-09-09T16:03:06.958Z"
   },
   {
    "duration": 6305,
    "start_time": "2021-09-09T16:07:58.598Z"
   },
   {
    "duration": 14068,
    "start_time": "2021-09-09T16:39:52.292Z"
   },
   {
    "duration": 13428,
    "start_time": "2021-09-09T16:40:19.711Z"
   },
   {
    "duration": 557,
    "start_time": "2021-09-11T06:20:29.861Z"
   },
   {
    "duration": 756,
    "start_time": "2021-09-11T06:20:55.802Z"
   },
   {
    "duration": 16,
    "start_time": "2021-09-11T06:20:59.172Z"
   },
   {
    "duration": 13,
    "start_time": "2021-09-11T06:21:02.259Z"
   },
   {
    "duration": 6,
    "start_time": "2021-09-11T06:21:04.336Z"
   },
   {
    "duration": 6,
    "start_time": "2021-09-11T06:21:08.844Z"
   },
   {
    "duration": 9,
    "start_time": "2021-09-11T06:21:10.065Z"
   },
   {
    "duration": 7,
    "start_time": "2021-09-11T06:21:10.517Z"
   },
   {
    "duration": 14,
    "start_time": "2021-09-11T06:21:11.231Z"
   },
   {
    "duration": 9,
    "start_time": "2021-09-11T06:21:15.761Z"
   },
   {
    "duration": 16,
    "start_time": "2021-09-11T06:21:18.115Z"
   },
   {
    "duration": 10,
    "start_time": "2021-09-11T06:21:18.619Z"
   },
   {
    "duration": 9,
    "start_time": "2021-09-11T06:21:20.919Z"
   },
   {
    "duration": 1176,
    "start_time": "2021-09-11T06:21:23.228Z"
   },
   {
    "duration": 12603,
    "start_time": "2021-09-11T06:21:36.288Z"
   },
   {
    "duration": 1273,
    "start_time": "2021-09-11T06:30:57.463Z"
   },
   {
    "duration": 4525,
    "start_time": "2021-09-11T06:34:26.106Z"
   },
   {
    "duration": 4454,
    "start_time": "2021-09-11T06:38:06.549Z"
   },
   {
    "duration": 13767,
    "start_time": "2021-09-11T06:38:26.836Z"
   },
   {
    "duration": 12596,
    "start_time": "2021-09-11T07:29:41.205Z"
   },
   {
    "duration": 10,
    "start_time": "2021-09-11T07:41:12.803Z"
   },
   {
    "duration": 6,
    "start_time": "2021-09-11T07:51:15.556Z"
   },
   {
    "duration": 6,
    "start_time": "2021-09-11T07:51:19.614Z"
   },
   {
    "duration": 6,
    "start_time": "2021-09-11T07:51:21.849Z"
   },
   {
    "duration": 13,
    "start_time": "2021-09-11T07:52:20.274Z"
   },
   {
    "duration": 37,
    "start_time": "2021-09-11T07:52:41.779Z"
   },
   {
    "duration": 27,
    "start_time": "2021-09-11T07:59:10.779Z"
   },
   {
    "duration": 8,
    "start_time": "2021-09-11T07:59:59.587Z"
   },
   {
    "duration": 9,
    "start_time": "2021-09-11T08:06:32.178Z"
   },
   {
    "duration": 9,
    "start_time": "2021-09-11T08:19:45.640Z"
   },
   {
    "duration": 11,
    "start_time": "2021-09-11T08:20:09.732Z"
   },
   {
    "duration": 77,
    "start_time": "2021-09-11T08:20:15.729Z"
   },
   {
    "duration": 15,
    "start_time": "2021-09-11T08:20:19.639Z"
   },
   {
    "duration": 13,
    "start_time": "2021-09-11T08:20:21.701Z"
   },
   {
    "duration": 18,
    "start_time": "2021-09-11T08:20:35.981Z"
   },
   {
    "duration": 16,
    "start_time": "2021-09-11T08:20:51.360Z"
   },
   {
    "duration": 14,
    "start_time": "2021-09-11T08:20:58.132Z"
   },
   {
    "duration": 21,
    "start_time": "2021-09-11T08:21:00.848Z"
   },
   {
    "duration": 101,
    "start_time": "2021-09-11T10:01:52.459Z"
   },
   {
    "duration": 109,
    "start_time": "2021-09-11T10:02:00.735Z"
   },
   {
    "duration": 7,
    "start_time": "2021-09-11T10:07:09.678Z"
   },
   {
    "duration": 7,
    "start_time": "2021-09-11T10:08:13.151Z"
   },
   {
    "duration": -59,
    "start_time": "2021-09-11T10:13:28.202Z"
   },
   {
    "duration": 19,
    "start_time": "2021-09-11T10:13:28.615Z"
   },
   {
    "duration": 7106,
    "start_time": "2021-09-11T10:13:30.952Z"
   },
   {
    "duration": -52,
    "start_time": "2021-09-11T10:13:47.902Z"
   },
   {
    "duration": 97,
    "start_time": "2021-09-11T10:13:59.730Z"
   },
   {
    "duration": 6678,
    "start_time": "2021-09-11T10:14:05.439Z"
   },
   {
    "duration": 9,
    "start_time": "2021-09-11T10:14:13.650Z"
   },
   {
    "duration": 9,
    "start_time": "2021-09-11T10:14:29.864Z"
   },
   {
    "duration": 9,
    "start_time": "2021-09-11T10:14:44.592Z"
   },
   {
    "duration": 281,
    "start_time": "2021-09-11T10:15:15.329Z"
   },
   {
    "duration": 24,
    "start_time": "2021-09-11T10:15:27.550Z"
   },
   {
    "duration": 33,
    "start_time": "2021-09-11T10:15:47.394Z"
   },
   {
    "duration": 20,
    "start_time": "2021-09-11T10:21:38.741Z"
   },
   {
    "duration": 18,
    "start_time": "2021-09-11T10:22:26.095Z"
   },
   {
    "duration": 7,
    "start_time": "2021-09-11T10:22:37.796Z"
   },
   {
    "duration": 9,
    "start_time": "2021-09-11T10:23:08.604Z"
   },
   {
    "duration": 288,
    "start_time": "2021-09-11T10:25:40.192Z"
   },
   {
    "duration": 332,
    "start_time": "2021-09-11T10:26:00.742Z"
   },
   {
    "duration": 34,
    "start_time": "2021-09-11T10:26:29.633Z"
   },
   {
    "duration": 13,
    "start_time": "2021-09-11T10:27:10.202Z"
   },
   {
    "duration": 4745,
    "start_time": "2021-09-11T10:29:53.335Z"
   },
   {
    "duration": 7,
    "start_time": "2021-09-11T11:48:45.437Z"
   },
   {
    "duration": 18,
    "start_time": "2021-09-11T11:48:54.215Z"
   },
   {
    "duration": 13,
    "start_time": "2021-09-11T11:50:06.964Z"
   },
   {
    "duration": 6,
    "start_time": "2021-09-11T12:08:55.167Z"
   },
   {
    "duration": 97,
    "start_time": "2021-09-11T12:29:11.470Z"
   },
   {
    "duration": 12,
    "start_time": "2021-09-11T12:29:29.937Z"
   },
   {
    "duration": 297,
    "start_time": "2021-09-11T12:31:00.316Z"
   },
   {
    "duration": 283,
    "start_time": "2021-09-11T12:33:09.353Z"
   },
   {
    "duration": 283,
    "start_time": "2021-09-11T12:33:15.344Z"
   },
   {
    "duration": 287,
    "start_time": "2021-09-11T12:35:52.765Z"
   },
   {
    "duration": 284,
    "start_time": "2021-09-11T12:36:11.576Z"
   },
   {
    "duration": 377,
    "start_time": "2021-09-11T12:36:14.610Z"
   },
   {
    "duration": 336,
    "start_time": "2021-09-11T12:36:47.484Z"
   },
   {
    "duration": 269,
    "start_time": "2021-09-11T12:37:40.387Z"
   },
   {
    "duration": 271,
    "start_time": "2021-09-11T12:38:23.027Z"
   },
   {
    "duration": 568,
    "start_time": "2021-09-11T12:38:56.409Z"
   },
   {
    "duration": 6,
    "start_time": "2021-09-11T12:40:26.400Z"
   },
   {
    "duration": 6,
    "start_time": "2021-09-11T12:40:30.093Z"
   },
   {
    "duration": 9,
    "start_time": "2021-09-11T12:40:42.582Z"
   },
   {
    "duration": 280,
    "start_time": "2021-09-11T12:41:44.606Z"
   },
   {
    "duration": 40,
    "start_time": "2021-09-11T12:44:36.763Z"
   },
   {
    "duration": 39,
    "start_time": "2021-09-11T12:44:52.542Z"
   },
   {
    "duration": 48,
    "start_time": "2021-09-11T12:46:24.943Z"
   },
   {
    "duration": 42,
    "start_time": "2021-09-11T12:46:58.817Z"
   },
   {
    "duration": 10,
    "start_time": "2021-09-11T12:47:03.401Z"
   },
   {
    "duration": 10,
    "start_time": "2021-09-11T12:48:12.168Z"
   },
   {
    "duration": 16,
    "start_time": "2021-09-11T12:56:37.001Z"
   },
   {
    "duration": 27,
    "start_time": "2021-09-11T12:57:18.383Z"
   },
   {
    "duration": 27,
    "start_time": "2021-09-11T12:58:01.634Z"
   },
   {
    "duration": 26,
    "start_time": "2021-09-11T12:58:35.842Z"
   },
   {
    "duration": 3,
    "start_time": "2021-09-11T12:59:50.313Z"
   },
   {
    "duration": 13,
    "start_time": "2021-09-11T13:00:21.033Z"
   },
   {
    "duration": 93,
    "start_time": "2021-09-11T13:01:45.357Z"
   },
   {
    "duration": 13,
    "start_time": "2021-09-11T13:02:00.334Z"
   },
   {
    "duration": 11,
    "start_time": "2021-09-11T13:05:35.163Z"
   },
   {
    "duration": 13,
    "start_time": "2021-09-11T13:05:52.633Z"
   },
   {
    "duration": 12,
    "start_time": "2021-09-11T13:05:54.853Z"
   },
   {
    "duration": 15,
    "start_time": "2021-09-11T13:08:40.278Z"
   },
   {
    "duration": 15,
    "start_time": "2021-09-11T13:09:02.434Z"
   },
   {
    "duration": 27,
    "start_time": "2021-09-11T13:09:29.487Z"
   },
   {
    "duration": 12,
    "start_time": "2021-09-11T13:11:40.739Z"
   },
   {
    "duration": 25,
    "start_time": "2021-09-11T13:12:38.690Z"
   },
   {
    "duration": 26,
    "start_time": "2021-09-11T13:12:43.835Z"
   },
   {
    "duration": 13,
    "start_time": "2021-09-11T13:16:00.260Z"
   },
   {
    "duration": 79,
    "start_time": "2021-09-11T13:16:07.949Z"
   },
   {
    "duration": 16,
    "start_time": "2021-09-11T13:16:11.119Z"
   },
   {
    "duration": 21,
    "start_time": "2021-09-11T13:16:13.366Z"
   },
   {
    "duration": 19,
    "start_time": "2021-09-11T13:16:17.039Z"
   },
   {
    "duration": 13,
    "start_time": "2021-09-11T13:16:21.328Z"
   },
   {
    "duration": 13,
    "start_time": "2021-09-11T13:16:23.500Z"
   },
   {
    "duration": 22,
    "start_time": "2021-09-11T13:16:26.583Z"
   },
   {
    "duration": 26,
    "start_time": "2021-09-11T13:16:43.633Z"
   },
   {
    "duration": 23,
    "start_time": "2021-09-11T13:16:45.948Z"
   },
   {
    "duration": 67,
    "start_time": "2021-09-11T13:17:08.366Z"
   },
   {
    "duration": 23,
    "start_time": "2021-09-11T13:17:11.975Z"
   },
   {
    "duration": 21,
    "start_time": "2021-09-11T13:17:19.528Z"
   },
   {
    "duration": 67,
    "start_time": "2021-09-11T13:17:23.898Z"
   },
   {
    "duration": 28,
    "start_time": "2021-09-11T13:22:57.442Z"
   },
   {
    "duration": 22,
    "start_time": "2021-09-11T13:23:01.544Z"
   },
   {
    "duration": 29,
    "start_time": "2021-09-11T13:23:12.564Z"
   },
   {
    "duration": 26,
    "start_time": "2021-09-11T13:23:17.050Z"
   },
   {
    "duration": 14,
    "start_time": "2021-09-11T13:23:34.438Z"
   },
   {
    "duration": 77,
    "start_time": "2021-09-11T13:23:37.680Z"
   },
   {
    "duration": 14,
    "start_time": "2021-09-11T13:23:37.759Z"
   },
   {
    "duration": 21,
    "start_time": "2021-09-11T13:23:37.777Z"
   },
   {
    "duration": 56,
    "start_time": "2021-09-11T13:23:37.800Z"
   },
   {
    "duration": 14,
    "start_time": "2021-09-11T13:23:37.858Z"
   },
   {
    "duration": 13,
    "start_time": "2021-09-11T13:23:37.874Z"
   },
   {
    "duration": 3,
    "start_time": "2021-09-11T13:23:37.889Z"
   },
   {
    "duration": 64,
    "start_time": "2021-09-11T13:23:37.896Z"
   },
   {
    "duration": 31,
    "start_time": "2021-09-11T13:23:37.963Z"
   },
   {
    "duration": 21,
    "start_time": "2021-09-11T13:23:37.996Z"
   },
   {
    "duration": 52,
    "start_time": "2021-09-11T13:23:38.020Z"
   },
   {
    "duration": 25,
    "start_time": "2021-09-11T13:23:38.075Z"
   },
   {
    "duration": 9,
    "start_time": "2021-09-11T13:23:38.102Z"
   },
   {
    "duration": 288,
    "start_time": "2021-09-11T13:23:38.114Z"
   },
   {
    "duration": -74,
    "start_time": "2021-09-11T13:23:38.479Z"
   },
   {
    "duration": -76,
    "start_time": "2021-09-11T13:23:38.484Z"
   },
   {
    "duration": -86,
    "start_time": "2021-09-11T13:23:38.496Z"
   },
   {
    "duration": -90,
    "start_time": "2021-09-11T13:23:38.502Z"
   },
   {
    "duration": -92,
    "start_time": "2021-09-11T13:23:38.506Z"
   },
   {
    "duration": -93,
    "start_time": "2021-09-11T13:23:38.510Z"
   },
   {
    "duration": -96,
    "start_time": "2021-09-11T13:23:38.515Z"
   },
   {
    "duration": -99,
    "start_time": "2021-09-11T13:23:38.520Z"
   },
   {
    "duration": -100,
    "start_time": "2021-09-11T13:23:38.523Z"
   },
   {
    "duration": -103,
    "start_time": "2021-09-11T13:23:38.529Z"
   },
   {
    "duration": -105,
    "start_time": "2021-09-11T13:23:38.533Z"
   },
   {
    "duration": 76,
    "start_time": "2021-09-11T13:24:51.576Z"
   },
   {
    "duration": 22,
    "start_time": "2021-09-11T13:24:53.799Z"
   },
   {
    "duration": 25,
    "start_time": "2021-09-11T13:25:02.190Z"
   },
   {
    "duration": 192381,
    "start_time": "2021-09-11T13:28:50.403Z"
   },
   {
    "duration": 21,
    "start_time": "2021-09-11T13:32:02.789Z"
   },
   {
    "duration": 16,
    "start_time": "2021-09-11T13:33:07.460Z"
   },
   {
    "duration": 11,
    "start_time": "2021-09-11T13:37:48.644Z"
   },
   {
    "duration": 15,
    "start_time": "2021-09-11T13:44:02.828Z"
   },
   {
    "duration": 90,
    "start_time": "2021-09-11T13:46:48.552Z"
   },
   {
    "duration": 3,
    "start_time": "2021-09-11T13:46:58.677Z"
   },
   {
    "duration": 3,
    "start_time": "2021-09-11T13:47:14.745Z"
   },
   {
    "duration": 98,
    "start_time": "2021-09-11T13:58:19.053Z"
   },
   {
    "duration": 95,
    "start_time": "2021-09-11T13:58:56.558Z"
   },
   {
    "duration": 74,
    "start_time": "2021-09-11T13:59:13.204Z"
   },
   {
    "duration": 99,
    "start_time": "2021-09-11T14:15:13.893Z"
   },
   {
    "duration": 96,
    "start_time": "2021-09-11T14:16:05.441Z"
   },
   {
    "duration": 104,
    "start_time": "2021-09-11T14:17:51.189Z"
   },
   {
    "duration": 96,
    "start_time": "2021-09-11T14:18:01.363Z"
   },
   {
    "duration": 284,
    "start_time": "2021-09-11T14:18:13.598Z"
   },
   {
    "duration": 16,
    "start_time": "2021-09-11T14:18:31.705Z"
   },
   {
    "duration": 16,
    "start_time": "2021-09-11T14:18:49.334Z"
   },
   {
    "duration": 17,
    "start_time": "2021-09-11T14:22:06.531Z"
   },
   {
    "duration": 296,
    "start_time": "2021-09-11T14:35:31.423Z"
   },
   {
    "duration": 15,
    "start_time": "2021-09-11T14:36:03.047Z"
   },
   {
    "duration": 42,
    "start_time": "2021-09-11T14:54:33.969Z"
   },
   {
    "duration": 49,
    "start_time": "2021-09-11T14:54:39.233Z"
   },
   {
    "duration": 85,
    "start_time": "2021-09-11T15:17:39.109Z"
   },
   {
    "duration": 25,
    "start_time": "2021-09-11T15:17:48.890Z"
   },
   {
    "duration": 75,
    "start_time": "2021-09-11T15:17:56.328Z"
   },
   {
    "duration": 13,
    "start_time": "2021-09-11T15:18:01.498Z"
   },
   {
    "duration": 73,
    "start_time": "2021-09-11T15:30:32.481Z"
   },
   {
    "duration": 101,
    "start_time": "2021-09-11T15:33:13.405Z"
   },
   {
    "duration": 13,
    "start_time": "2021-09-11T15:33:20.684Z"
   },
   {
    "duration": 125,
    "start_time": "2021-09-11T15:34:10.094Z"
   },
   {
    "duration": 12,
    "start_time": "2021-09-11T15:34:13.373Z"
   },
   {
    "duration": 26,
    "start_time": "2021-09-11T15:34:14.195Z"
   },
   {
    "duration": 123,
    "start_time": "2021-09-11T15:46:53.164Z"
   },
   {
    "duration": 14,
    "start_time": "2021-09-11T15:47:35.659Z"
   },
   {
    "duration": 4,
    "start_time": "2021-09-11T15:47:43.940Z"
   },
   {
    "duration": 6,
    "start_time": "2021-09-11T15:47:46.438Z"
   },
   {
    "duration": 8,
    "start_time": "2021-09-11T15:47:48.688Z"
   },
   {
    "duration": 7,
    "start_time": "2021-09-11T15:47:51.654Z"
   },
   {
    "duration": 13,
    "start_time": "2021-09-11T15:47:53.686Z"
   },
   {
    "duration": 13,
    "start_time": "2021-09-11T16:10:55.610Z"
   },
   {
    "duration": 5,
    "start_time": "2021-09-11T16:21:34.025Z"
   },
   {
    "duration": 6,
    "start_time": "2021-09-11T16:21:44.645Z"
   },
   {
    "duration": 7599,
    "start_time": "2021-09-11T16:23:30.636Z"
   },
   {
    "duration": 106,
    "start_time": "2021-09-11T16:25:10.097Z"
   },
   {
    "duration": 137,
    "start_time": "2021-09-11T16:34:10.075Z"
   },
   {
    "duration": 77,
    "start_time": "2021-09-11T16:35:02.578Z"
   },
   {
    "duration": 16,
    "start_time": "2021-09-11T16:35:02.658Z"
   },
   {
    "duration": 25,
    "start_time": "2021-09-11T16:35:02.678Z"
   },
   {
    "duration": 6,
    "start_time": "2021-09-11T16:35:02.707Z"
   },
   {
    "duration": 106,
    "start_time": "2021-09-11T16:35:02.756Z"
   },
   {
    "duration": 8,
    "start_time": "2021-09-11T16:35:02.858Z"
   },
   {
    "duration": 8,
    "start_time": "2021-09-11T16:35:02.860Z"
   },
   {
    "duration": 8,
    "start_time": "2021-09-11T16:35:02.862Z"
   },
   {
    "duration": 9,
    "start_time": "2021-09-11T16:35:02.863Z"
   },
   {
    "duration": 10,
    "start_time": "2021-09-11T16:35:02.865Z"
   },
   {
    "duration": 10,
    "start_time": "2021-09-11T16:35:02.867Z"
   },
   {
    "duration": 11,
    "start_time": "2021-09-11T16:35:02.869Z"
   },
   {
    "duration": 11,
    "start_time": "2021-09-11T16:35:02.871Z"
   },
   {
    "duration": 6,
    "start_time": "2021-09-11T16:35:02.878Z"
   },
   {
    "duration": 6,
    "start_time": "2021-09-11T16:35:02.880Z"
   },
   {
    "duration": 60,
    "start_time": "2021-09-11T16:35:02.914Z"
   },
   {
    "duration": 25,
    "start_time": "2021-09-11T16:35:02.978Z"
   },
   {
    "duration": 105,
    "start_time": "2021-09-11T16:35:41.734Z"
   },
   {
    "duration": 413,
    "start_time": "2021-09-11T16:37:19.096Z"
   },
   {
    "duration": 127,
    "start_time": "2021-09-11T16:37:30.680Z"
   },
   {
    "duration": 124,
    "start_time": "2021-09-11T16:37:35.398Z"
   },
   {
    "duration": 121,
    "start_time": "2021-09-11T16:37:57.188Z"
   },
   {
    "duration": 16,
    "start_time": "2021-09-11T16:38:03.109Z"
   },
   {
    "duration": 7,
    "start_time": "2021-09-11T16:38:22.769Z"
   },
   {
    "duration": 134,
    "start_time": "2021-09-11T16:38:54.248Z"
   },
   {
    "duration": 127,
    "start_time": "2021-09-11T16:39:32.538Z"
   },
   {
    "duration": 22,
    "start_time": "2021-09-11T16:39:34.437Z"
   },
   {
    "duration": 6,
    "start_time": "2021-09-11T16:39:38.170Z"
   },
   {
    "duration": 19,
    "start_time": "2021-09-11T16:39:39.569Z"
   },
   {
    "duration": 9,
    "start_time": "2021-09-11T16:50:09.772Z"
   },
   {
    "duration": 99,
    "start_time": "2021-09-11T16:52:13.455Z"
   },
   {
    "duration": 325,
    "start_time": "2021-09-11T17:00:37.015Z"
   },
   {
    "duration": 86,
    "start_time": "2021-09-11T17:03:22.990Z"
   },
   {
    "duration": 20,
    "start_time": "2021-09-11T17:03:23.079Z"
   },
   {
    "duration": 22,
    "start_time": "2021-09-11T17:03:23.101Z"
   },
   {
    "duration": 5,
    "start_time": "2021-09-11T17:03:23.126Z"
   },
   {
    "duration": 149,
    "start_time": "2021-09-11T17:03:23.134Z"
   },
   {
    "duration": 14,
    "start_time": "2021-09-11T17:03:23.285Z"
   },
   {
    "duration": 3,
    "start_time": "2021-09-11T17:03:23.301Z"
   },
   {
    "duration": 10,
    "start_time": "2021-09-11T17:03:23.306Z"
   },
   {
    "duration": 20,
    "start_time": "2021-09-11T17:03:23.319Z"
   },
   {
    "duration": 82,
    "start_time": "2021-09-11T17:03:23.342Z"
   },
   {
    "duration": 9,
    "start_time": "2021-09-11T17:03:27.981Z"
   },
   {
    "duration": 30,
    "start_time": "2021-09-11T17:03:27.993Z"
   },
   {
    "duration": 33,
    "start_time": "2021-09-11T17:03:28.025Z"
   },
   {
    "duration": 12952,
    "start_time": "2021-09-11T17:03:28.061Z"
   },
   {
    "duration": 11,
    "start_time": "2021-09-11T17:03:41.017Z"
   },
   {
    "duration": 101,
    "start_time": "2021-09-11T17:06:46.040Z"
   },
   {
    "duration": 114,
    "start_time": "2021-09-11T17:06:53.227Z"
   },
   {
    "duration": 98,
    "start_time": "2021-09-11T17:09:09.459Z"
   },
   {
    "duration": 95,
    "start_time": "2021-09-11T17:09:36.951Z"
   },
   {
    "duration": 4324,
    "start_time": "2021-09-11T17:09:46.474Z"
   },
   {
    "duration": 4379,
    "start_time": "2021-09-11T17:11:51.096Z"
   },
   {
    "duration": 12762,
    "start_time": "2021-09-11T17:14:32.445Z"
   },
   {
    "duration": 84,
    "start_time": "2021-09-11T17:17:34.725Z"
   },
   {
    "duration": 14,
    "start_time": "2021-09-11T17:17:34.812Z"
   },
   {
    "duration": 37,
    "start_time": "2021-09-11T17:17:34.829Z"
   },
   {
    "duration": 5,
    "start_time": "2021-09-11T17:17:34.868Z"
   },
   {
    "duration": 154,
    "start_time": "2021-09-11T17:17:34.876Z"
   },
   {
    "duration": 23,
    "start_time": "2021-09-11T17:17:35.033Z"
   },
   {
    "duration": 3,
    "start_time": "2021-09-11T17:17:35.060Z"
   },
   {
    "duration": 17,
    "start_time": "2021-09-11T17:17:35.066Z"
   },
   {
    "duration": 25,
    "start_time": "2021-09-11T17:17:35.086Z"
   },
   {
    "duration": 98,
    "start_time": "2021-09-11T17:17:35.114Z"
   },
   {
    "duration": 9,
    "start_time": "2021-09-11T17:17:35.215Z"
   },
   {
    "duration": 11781,
    "start_time": "2021-09-11T17:17:35.226Z"
   },
   {
    "duration": 295,
    "start_time": "2021-09-11T17:17:47.010Z"
   },
   {
    "duration": 16,
    "start_time": "2021-09-11T17:17:47.292Z"
   },
   {
    "duration": 16,
    "start_time": "2021-09-11T17:17:47.293Z"
   },
   {
    "duration": 6256,
    "start_time": "2021-09-11T17:18:05.385Z"
   },
   {
    "duration": 10681,
    "start_time": "2021-09-11T17:25:52.835Z"
   },
   {
    "duration": 322,
    "start_time": "2021-09-11T17:29:24.906Z"
   },
   {
    "duration": 270,
    "start_time": "2021-09-11T17:29:29.376Z"
   },
   {
    "duration": 875,
    "start_time": "2021-09-12T14:20:00.472Z"
   },
   {
    "duration": 15,
    "start_time": "2021-09-12T14:20:05.278Z"
   },
   {
    "duration": 22,
    "start_time": "2021-09-12T14:20:08.425Z"
   },
   {
    "duration": 6,
    "start_time": "2021-09-12T14:20:11.096Z"
   },
   {
    "duration": 125,
    "start_time": "2021-09-12T14:20:16.784Z"
   },
   {
    "duration": 14,
    "start_time": "2021-09-12T14:20:18.571Z"
   },
   {
    "duration": 6,
    "start_time": "2021-09-12T14:20:22.653Z"
   },
   {
    "duration": 17,
    "start_time": "2021-09-12T14:20:24.350Z"
   },
   {
    "duration": 85,
    "start_time": "2021-09-12T14:20:27.445Z"
   },
   {
    "duration": 9,
    "start_time": "2021-09-12T14:20:37.817Z"
   },
   {
    "duration": 862,
    "start_time": "2021-09-12T14:26:06.200Z"
   },
   {
    "duration": 16,
    "start_time": "2021-09-12T14:26:11.562Z"
   },
   {
    "duration": 22,
    "start_time": "2021-09-12T14:26:15.064Z"
   },
   {
    "duration": 5,
    "start_time": "2021-09-12T14:26:18.322Z"
   },
   {
    "duration": 134,
    "start_time": "2021-09-12T14:26:21.970Z"
   },
   {
    "duration": 14,
    "start_time": "2021-09-12T14:26:24.787Z"
   },
   {
    "duration": 7,
    "start_time": "2021-09-12T14:26:28.259Z"
   },
   {
    "duration": 16,
    "start_time": "2021-09-12T14:26:31.357Z"
   },
   {
    "duration": 85,
    "start_time": "2021-09-12T14:26:34.107Z"
   },
   {
    "duration": 9,
    "start_time": "2021-09-12T14:26:37.485Z"
   },
   {
    "duration": -95,
    "start_time": "2021-09-12T14:29:32.648Z"
   },
   {
    "duration": 731557,
    "start_time": "2021-09-12T14:29:35.969Z"
   },
   {
    "duration": -84,
    "start_time": "2021-09-12T14:41:47.614Z"
   },
   {
    "duration": -86,
    "start_time": "2021-09-12T14:41:47.617Z"
   },
   {
    "duration": -86,
    "start_time": "2021-09-12T14:41:47.619Z"
   },
   {
    "duration": 7,
    "start_time": "2021-09-12T14:45:51.848Z"
   },
   {
    "duration": 21,
    "start_time": "2021-09-12T14:45:55.372Z"
   },
   {
    "duration": 25,
    "start_time": "2021-09-12T14:46:13.780Z"
   },
   {
    "duration": -476,
    "start_time": "2021-09-12T14:50:27.752Z"
   },
   {
    "duration": 23,
    "start_time": "2021-09-12T14:50:33.808Z"
   },
   {
    "duration": 5614,
    "start_time": "2021-09-12T14:50:43.266Z"
   },
   {
    "duration": 95,
    "start_time": "2021-09-12T14:51:25.577Z"
   },
   {
    "duration": 7558,
    "start_time": "2021-09-12T14:51:35.869Z"
   },
   {
    "duration": 300,
    "start_time": "2021-09-12T14:52:30.466Z"
   },
   {
    "duration": 6712,
    "start_time": "2021-09-12T14:53:24.364Z"
   },
   {
    "duration": 4569,
    "start_time": "2021-09-12T14:55:07.592Z"
   },
   {
    "duration": 25,
    "start_time": "2021-09-12T14:55:14.706Z"
   },
   {
    "duration": 4551,
    "start_time": "2021-09-12T15:07:43.253Z"
   },
   {
    "duration": 25,
    "start_time": "2021-09-12T15:07:51.348Z"
   },
   {
    "duration": 4521,
    "start_time": "2021-09-12T15:08:50.520Z"
   },
   {
    "duration": 26,
    "start_time": "2021-09-12T15:08:57.867Z"
   },
   {
    "duration": 79,
    "start_time": "2021-09-12T15:09:17.861Z"
   },
   {
    "duration": 15,
    "start_time": "2021-09-12T15:09:17.943Z"
   },
   {
    "duration": 21,
    "start_time": "2021-09-12T15:09:17.960Z"
   },
   {
    "duration": 5,
    "start_time": "2021-09-12T15:09:17.984Z"
   },
   {
    "duration": 138,
    "start_time": "2021-09-12T15:09:18.017Z"
   },
   {
    "duration": 13,
    "start_time": "2021-09-12T15:09:18.157Z"
   },
   {
    "duration": 3,
    "start_time": "2021-09-12T15:09:18.173Z"
   },
   {
    "duration": 14,
    "start_time": "2021-09-12T15:09:18.178Z"
   },
   {
    "duration": 28,
    "start_time": "2021-09-12T15:09:18.196Z"
   },
   {
    "duration": 109,
    "start_time": "2021-09-12T15:09:18.227Z"
   },
   {
    "duration": 9,
    "start_time": "2021-09-12T15:09:18.339Z"
   },
   {
    "duration": 4512,
    "start_time": "2021-09-12T15:09:18.351Z"
   },
   {
    "duration": 27,
    "start_time": "2021-09-12T15:09:22.866Z"
   },
   {
    "duration": 29,
    "start_time": "2021-09-12T15:09:22.896Z"
   },
   {
    "duration": 35,
    "start_time": "2021-09-12T15:09:22.928Z"
   },
   {
    "duration": 11,
    "start_time": "2021-09-12T15:09:22.965Z"
   },
   {
    "duration": 5036,
    "start_time": "2021-09-12T15:26:37.162Z"
   },
   {
    "duration": 26,
    "start_time": "2021-09-12T15:26:57.662Z"
   },
   {
    "duration": 6014,
    "start_time": "2021-09-12T15:32:24.077Z"
   },
   {
    "duration": 101,
    "start_time": "2021-09-12T15:34:03.967Z"
   },
   {
    "duration": 6073,
    "start_time": "2021-09-12T15:34:32.578Z"
   },
   {
    "duration": 4683,
    "start_time": "2021-09-12T15:43:20.034Z"
   },
   {
    "duration": 28,
    "start_time": "2021-09-12T15:43:29.190Z"
   },
   {
    "duration": 4646,
    "start_time": "2021-09-12T15:43:57.585Z"
   },
   {
    "duration": 31,
    "start_time": "2021-09-12T15:44:04.698Z"
   },
   {
    "duration": 5031,
    "start_time": "2021-09-12T15:48:44.472Z"
   },
   {
    "duration": 4754,
    "start_time": "2021-09-12T15:49:10.833Z"
   },
   {
    "duration": 32,
    "start_time": "2021-09-12T15:49:20.179Z"
   },
   {
    "duration": 81,
    "start_time": "2021-09-12T15:50:02.753Z"
   },
   {
    "duration": 15,
    "start_time": "2021-09-12T15:50:02.837Z"
   },
   {
    "duration": 21,
    "start_time": "2021-09-12T15:50:02.856Z"
   },
   {
    "duration": 37,
    "start_time": "2021-09-12T15:50:02.880Z"
   },
   {
    "duration": 139,
    "start_time": "2021-09-12T15:50:02.920Z"
   },
   {
    "duration": 14,
    "start_time": "2021-09-12T15:50:03.062Z"
   },
   {
    "duration": 3,
    "start_time": "2021-09-12T15:50:03.079Z"
   },
   {
    "duration": 12,
    "start_time": "2021-09-12T15:50:03.084Z"
   },
   {
    "duration": 15,
    "start_time": "2021-09-12T15:50:03.118Z"
   },
   {
    "duration": 109,
    "start_time": "2021-09-12T15:50:03.135Z"
   },
   {
    "duration": 9,
    "start_time": "2021-09-12T15:50:03.247Z"
   },
   {
    "duration": 4735,
    "start_time": "2021-09-12T15:50:03.258Z"
   },
   {
    "duration": 35,
    "start_time": "2021-09-12T15:50:07.996Z"
   },
   {
    "duration": 11,
    "start_time": "2021-09-12T15:50:08.034Z"
   },
   {
    "duration": 34,
    "start_time": "2021-09-12T15:50:08.048Z"
   },
   {
    "duration": 38,
    "start_time": "2021-09-12T15:50:08.084Z"
   },
   {
    "duration": 6170,
    "start_time": "2021-09-12T15:53:36.381Z"
   },
   {
    "duration": 4677,
    "start_time": "2021-09-12T15:57:04.428Z"
   },
   {
    "duration": 29,
    "start_time": "2021-09-12T15:57:10.059Z"
   },
   {
    "duration": 1572,
    "start_time": "2021-09-12T15:57:17.075Z"
   },
   {
    "duration": 16,
    "start_time": "2021-09-12T15:57:18.650Z"
   },
   {
    "duration": 48,
    "start_time": "2021-09-12T15:57:18.670Z"
   },
   {
    "duration": 6,
    "start_time": "2021-09-12T15:57:18.720Z"
   },
   {
    "duration": 150,
    "start_time": "2021-09-12T15:57:18.729Z"
   },
   {
    "duration": 15,
    "start_time": "2021-09-12T15:57:18.881Z"
   },
   {
    "duration": 3,
    "start_time": "2021-09-12T15:57:18.898Z"
   },
   {
    "duration": 6,
    "start_time": "2021-09-12T15:57:18.918Z"
   },
   {
    "duration": 21,
    "start_time": "2021-09-12T15:57:18.927Z"
   },
   {
    "duration": 111,
    "start_time": "2021-09-12T15:57:18.950Z"
   },
   {
    "duration": 9,
    "start_time": "2021-09-12T15:57:19.063Z"
   },
   {
    "duration": 4684,
    "start_time": "2021-09-12T15:57:19.074Z"
   },
   {
    "duration": 26,
    "start_time": "2021-09-12T15:57:23.761Z"
   },
   {
    "duration": 30,
    "start_time": "2021-09-12T15:57:23.790Z"
   },
   {
    "duration": 45,
    "start_time": "2021-09-12T15:57:23.822Z"
   },
   {
    "duration": 9,
    "start_time": "2021-09-12T15:57:23.869Z"
   },
   {
    "duration": 6,
    "start_time": "2021-09-12T16:03:17.390Z"
   },
   {
    "duration": 87,
    "start_time": "2021-09-12T16:03:23.053Z"
   },
   {
    "duration": 15,
    "start_time": "2021-09-12T16:03:23.142Z"
   },
   {
    "duration": 23,
    "start_time": "2021-09-12T16:03:23.160Z"
   },
   {
    "duration": 34,
    "start_time": "2021-09-12T16:03:23.186Z"
   },
   {
    "duration": 148,
    "start_time": "2021-09-12T16:03:23.223Z"
   },
   {
    "duration": 15,
    "start_time": "2021-09-12T16:03:23.373Z"
   },
   {
    "duration": 6,
    "start_time": "2021-09-12T16:03:23.390Z"
   },
   {
    "duration": 20,
    "start_time": "2021-09-12T16:03:23.400Z"
   },
   {
    "duration": 22,
    "start_time": "2021-09-12T16:03:23.422Z"
   },
   {
    "duration": 106,
    "start_time": "2021-09-12T16:03:23.447Z"
   },
   {
    "duration": 8,
    "start_time": "2021-09-12T16:03:23.556Z"
   },
   {
    "duration": 4650,
    "start_time": "2021-09-12T16:03:23.566Z"
   },
   {
    "duration": 28,
    "start_time": "2021-09-12T16:03:28.219Z"
   },
   {
    "duration": 12,
    "start_time": "2021-09-12T16:03:28.249Z"
   },
   {
    "duration": 63,
    "start_time": "2021-09-12T16:03:28.264Z"
   },
   {
    "duration": 9,
    "start_time": "2021-09-12T16:03:28.330Z"
   },
   {
    "duration": 7,
    "start_time": "2021-09-12T16:21:33.547Z"
   },
   {
    "duration": 25,
    "start_time": "2021-09-12T16:21:34.929Z"
   },
   {
    "duration": 10,
    "start_time": "2021-09-12T16:23:05.460Z"
   },
   {
    "duration": 87,
    "start_time": "2021-09-12T16:23:11.624Z"
   },
   {
    "duration": 15,
    "start_time": "2021-09-12T16:23:11.713Z"
   },
   {
    "duration": 22,
    "start_time": "2021-09-12T16:23:11.731Z"
   },
   {
    "duration": 6,
    "start_time": "2021-09-12T16:23:11.755Z"
   },
   {
    "duration": 164,
    "start_time": "2021-09-12T16:23:11.764Z"
   },
   {
    "duration": 15,
    "start_time": "2021-09-12T16:23:11.931Z"
   },
   {
    "duration": 8,
    "start_time": "2021-09-12T16:23:11.949Z"
   },
   {
    "duration": 19,
    "start_time": "2021-09-12T16:23:11.959Z"
   },
   {
    "duration": 10,
    "start_time": "2021-09-12T16:23:12.018Z"
   },
   {
    "duration": 104,
    "start_time": "2021-09-12T16:23:12.031Z"
   },
   {
    "duration": 9,
    "start_time": "2021-09-12T16:23:12.138Z"
   },
   {
    "duration": 5026,
    "start_time": "2021-09-12T16:23:12.149Z"
   },
   {
    "duration": 24,
    "start_time": "2021-09-12T16:23:17.178Z"
   },
   {
    "duration": 9,
    "start_time": "2021-09-12T16:23:17.216Z"
   },
   {
    "duration": 33,
    "start_time": "2021-09-12T16:23:17.228Z"
   },
   {
    "duration": 9,
    "start_time": "2021-09-12T16:23:17.264Z"
   },
   {
    "duration": 93,
    "start_time": "2021-09-12T16:27:25.902Z"
   },
   {
    "duration": 7,
    "start_time": "2021-09-12T16:27:32.538Z"
   },
   {
    "duration": 961,
    "start_time": "2021-09-12T16:27:37.523Z"
   },
   {
    "duration": 30,
    "start_time": "2021-09-12T16:27:38.487Z"
   },
   {
    "duration": 31,
    "start_time": "2021-09-12T16:27:38.521Z"
   },
   {
    "duration": 6,
    "start_time": "2021-09-12T16:27:38.556Z"
   },
   {
    "duration": 244,
    "start_time": "2021-09-12T16:27:38.566Z"
   },
   {
    "duration": 21,
    "start_time": "2021-09-12T16:27:38.813Z"
   },
   {
    "duration": 7,
    "start_time": "2021-09-12T16:27:38.837Z"
   },
   {
    "duration": 16,
    "start_time": "2021-09-12T16:27:38.849Z"
   },
   {
    "duration": 6,
    "start_time": "2021-09-12T16:27:38.867Z"
   },
   {
    "duration": 83,
    "start_time": "2021-09-12T16:27:38.917Z"
   },
   {
    "duration": 9,
    "start_time": "2021-09-12T16:27:39.017Z"
   },
   {
    "duration": 5711,
    "start_time": "2021-09-12T16:27:39.028Z"
   },
   {
    "duration": 28,
    "start_time": "2021-09-12T16:27:44.743Z"
   },
   {
    "duration": 14,
    "start_time": "2021-09-12T16:27:44.774Z"
   },
   {
    "duration": 57,
    "start_time": "2021-09-12T16:27:44.791Z"
   },
   {
    "duration": 9,
    "start_time": "2021-09-12T16:27:44.850Z"
   },
   {
    "duration": 8,
    "start_time": "2021-09-12T16:29:40.734Z"
   },
   {
    "duration": 2051,
    "start_time": "2021-09-12T16:30:02.185Z"
   },
   {
    "duration": 2142,
    "start_time": "2021-09-12T16:30:27.042Z"
   },
   {
    "duration": 2805,
    "start_time": "2021-09-12T16:30:46.784Z"
   },
   {
    "duration": 79,
    "start_time": "2021-09-12T16:31:22.572Z"
   },
   {
    "duration": 14,
    "start_time": "2021-09-12T16:31:22.654Z"
   },
   {
    "duration": 46,
    "start_time": "2021-09-12T16:31:22.673Z"
   },
   {
    "duration": 5,
    "start_time": "2021-09-12T16:31:22.722Z"
   },
   {
    "duration": 151,
    "start_time": "2021-09-12T16:31:22.729Z"
   },
   {
    "duration": 15,
    "start_time": "2021-09-12T16:31:22.883Z"
   },
   {
    "duration": 20,
    "start_time": "2021-09-12T16:31:22.900Z"
   },
   {
    "duration": 24,
    "start_time": "2021-09-12T16:31:22.922Z"
   },
   {
    "duration": 6,
    "start_time": "2021-09-12T16:31:22.949Z"
   },
   {
    "duration": 109,
    "start_time": "2021-09-12T16:31:22.958Z"
   },
   {
    "duration": 9,
    "start_time": "2021-09-12T16:31:23.069Z"
   },
   {
    "duration": 4613,
    "start_time": "2021-09-12T16:31:23.081Z"
   },
   {
    "duration": 38,
    "start_time": "2021-09-12T16:31:27.697Z"
   },
   {
    "duration": 10,
    "start_time": "2021-09-12T16:31:27.737Z"
   },
   {
    "duration": 34,
    "start_time": "2021-09-12T16:31:27.750Z"
   },
   {
    "duration": 9,
    "start_time": "2021-09-12T16:31:27.815Z"
   },
   {
    "duration": 93,
    "start_time": "2021-09-12T16:31:54.575Z"
   },
   {
    "duration": 15,
    "start_time": "2021-09-12T16:31:54.670Z"
   },
   {
    "duration": 35,
    "start_time": "2021-09-12T16:31:54.689Z"
   },
   {
    "duration": 5,
    "start_time": "2021-09-12T16:31:54.727Z"
   },
   {
    "duration": 156,
    "start_time": "2021-09-12T16:31:54.734Z"
   },
   {
    "duration": 15,
    "start_time": "2021-09-12T16:31:54.892Z"
   },
   {
    "duration": 7,
    "start_time": "2021-09-12T16:31:54.917Z"
   },
   {
    "duration": 30,
    "start_time": "2021-09-12T16:31:54.926Z"
   },
   {
    "duration": 6,
    "start_time": "2021-09-12T16:31:54.959Z"
   },
   {
    "duration": 133,
    "start_time": "2021-09-12T16:31:54.967Z"
   },
   {
    "duration": 21,
    "start_time": "2021-09-12T16:31:55.103Z"
   },
   {
    "duration": 4677,
    "start_time": "2021-09-12T16:31:55.127Z"
   },
   {
    "duration": 25,
    "start_time": "2021-09-12T16:31:59.817Z"
   },
   {
    "duration": 20,
    "start_time": "2021-09-12T16:31:59.844Z"
   },
   {
    "duration": 52,
    "start_time": "2021-09-12T16:31:59.866Z"
   },
   {
    "duration": 9,
    "start_time": "2021-09-12T16:31:59.920Z"
   },
   {
    "duration": 87,
    "start_time": "2021-09-12T16:36:13.400Z"
   },
   {
    "duration": 34,
    "start_time": "2021-09-12T16:36:13.490Z"
   },
   {
    "duration": 22,
    "start_time": "2021-09-12T16:36:13.527Z"
   },
   {
    "duration": 7,
    "start_time": "2021-09-12T16:36:13.552Z"
   },
   {
    "duration": 170,
    "start_time": "2021-09-12T16:36:13.561Z"
   },
   {
    "duration": 14,
    "start_time": "2021-09-12T16:36:13.734Z"
   },
   {
    "duration": 8,
    "start_time": "2021-09-12T16:36:13.750Z"
   },
   {
    "duration": 16,
    "start_time": "2021-09-12T16:36:13.760Z"
   },
   {
    "duration": 36,
    "start_time": "2021-09-12T16:36:13.780Z"
   },
   {
    "duration": 78,
    "start_time": "2021-09-12T16:36:13.819Z"
   },
   {
    "duration": 21,
    "start_time": "2021-09-12T16:36:13.899Z"
   },
   {
    "duration": 4795,
    "start_time": "2021-09-12T16:36:13.922Z"
   },
   {
    "duration": 24,
    "start_time": "2021-09-12T16:36:18.720Z"
   },
   {
    "duration": 10,
    "start_time": "2021-09-12T16:36:18.746Z"
   },
   {
    "duration": 60,
    "start_time": "2021-09-12T16:36:18.759Z"
   },
   {
    "duration": 8,
    "start_time": "2021-09-12T16:36:18.822Z"
   },
   {
    "duration": 8,
    "start_time": "2021-09-12T16:41:57.232Z"
   },
   {
    "duration": 21,
    "start_time": "2021-09-12T16:56:27.782Z"
   },
   {
    "duration": 13,
    "start_time": "2021-09-12T16:57:06.232Z"
   },
   {
    "duration": 12,
    "start_time": "2021-09-12T16:58:08.846Z"
   },
   {
    "duration": 12,
    "start_time": "2021-09-12T16:58:14.903Z"
   },
   {
    "duration": 88,
    "start_time": "2021-09-12T16:58:25.272Z"
   },
   {
    "duration": 16,
    "start_time": "2021-09-12T16:58:25.362Z"
   },
   {
    "duration": 46,
    "start_time": "2021-09-12T16:58:25.381Z"
   },
   {
    "duration": 9,
    "start_time": "2021-09-12T16:58:25.430Z"
   },
   {
    "duration": 154,
    "start_time": "2021-09-12T16:58:25.441Z"
   },
   {
    "duration": 24,
    "start_time": "2021-09-12T16:58:25.597Z"
   },
   {
    "duration": 8,
    "start_time": "2021-09-12T16:58:25.623Z"
   },
   {
    "duration": 19,
    "start_time": "2021-09-12T16:58:25.633Z"
   },
   {
    "duration": 5,
    "start_time": "2021-09-12T16:58:25.656Z"
   },
   {
    "duration": 113,
    "start_time": "2021-09-12T16:58:25.663Z"
   },
   {
    "duration": 7,
    "start_time": "2021-09-12T16:58:25.778Z"
   },
   {
    "duration": 4856,
    "start_time": "2021-09-12T16:58:25.787Z"
   },
   {
    "duration": 25,
    "start_time": "2021-09-12T16:58:30.646Z"
   },
   {
    "duration": 42,
    "start_time": "2021-09-12T16:58:30.673Z"
   },
   {
    "duration": 37,
    "start_time": "2021-09-12T16:58:30.718Z"
   },
   {
    "duration": 25,
    "start_time": "2021-09-12T16:58:30.758Z"
   },
   {
    "duration": 102,
    "start_time": "2021-09-12T17:05:35.028Z"
   },
   {
    "duration": 18,
    "start_time": "2021-09-12T17:10:15.480Z"
   },
   {
    "duration": 32,
    "start_time": "2021-09-12T17:10:39.487Z"
   },
   {
    "duration": 8164,
    "start_time": "2021-09-12T17:37:56.126Z"
   },
   {
    "duration": 8264,
    "start_time": "2021-09-12T17:38:12.969Z"
   },
   {
    "duration": 609,
    "start_time": "2021-09-13T02:44:32.605Z"
   },
   {
    "duration": 10,
    "start_time": "2021-09-13T02:44:33.216Z"
   },
   {
    "duration": 13,
    "start_time": "2021-09-13T02:44:33.227Z"
   },
   {
    "duration": 4,
    "start_time": "2021-09-13T02:44:33.242Z"
   },
   {
    "duration": 119,
    "start_time": "2021-09-13T02:44:33.248Z"
   },
   {
    "duration": 9,
    "start_time": "2021-09-13T02:44:33.369Z"
   },
   {
    "duration": 4,
    "start_time": "2021-09-13T02:44:33.385Z"
   },
   {
    "duration": 17,
    "start_time": "2021-09-13T02:44:33.390Z"
   },
   {
    "duration": 3,
    "start_time": "2021-09-13T02:44:33.410Z"
   },
   {
    "duration": 50,
    "start_time": "2021-09-13T02:44:33.415Z"
   },
   {
    "duration": 5,
    "start_time": "2021-09-13T02:44:33.485Z"
   },
   {
    "duration": 6366,
    "start_time": "2021-09-13T02:44:33.491Z"
   },
   {
    "duration": 26,
    "start_time": "2021-09-13T02:44:39.859Z"
   },
   {
    "duration": 20,
    "start_time": "2021-09-13T02:44:39.886Z"
   },
   {
    "duration": 7,
    "start_time": "2021-09-13T02:44:39.908Z"
   },
   {
    "duration": 11,
    "start_time": "2021-09-13T14:19:00.862Z"
   },
   {
    "duration": 27,
    "start_time": "2021-09-13T14:20:04.387Z"
   },
   {
    "duration": 4,
    "start_time": "2021-09-13T14:23:15.901Z"
   },
   {
    "duration": 58,
    "start_time": "2021-09-13T14:34:59.862Z"
   },
   {
    "duration": 4,
    "start_time": "2021-09-13T14:46:35.168Z"
   },
   {
    "duration": 22,
    "start_time": "2021-09-13T15:02:18.619Z"
   },
   {
    "duration": 8,
    "start_time": "2021-09-13T15:03:40.234Z"
   },
   {
    "duration": 11,
    "start_time": "2021-09-13T15:30:48.256Z"
   },
   {
    "duration": 65,
    "start_time": "2021-09-13T15:50:05.193Z"
   },
   {
    "duration": 251,
    "start_time": "2021-09-13T15:50:28.135Z"
   },
   {
    "duration": 179,
    "start_time": "2021-09-13T15:51:01.491Z"
   },
   {
    "duration": 3,
    "start_time": "2021-09-13T15:53:01.294Z"
   },
   {
    "duration": 184,
    "start_time": "2021-09-13T16:03:34.642Z"
   },
   {
    "duration": 180,
    "start_time": "2021-09-13T16:04:10.891Z"
   },
   {
    "duration": 242,
    "start_time": "2021-09-13T16:05:01.588Z"
   },
   {
    "duration": 14,
    "start_time": "2021-09-13T16:06:05.336Z"
   },
   {
    "duration": 14,
    "start_time": "2021-09-13T16:09:59.710Z"
   },
   {
    "duration": 18,
    "start_time": "2021-09-13T16:11:41.454Z"
   },
   {
    "duration": 17,
    "start_time": "2021-09-13T16:12:26.104Z"
   },
   {
    "duration": 35,
    "start_time": "2021-09-13T16:15:29.281Z"
   },
   {
    "duration": 38,
    "start_time": "2021-09-13T16:16:11.280Z"
   },
   {
    "duration": 35,
    "start_time": "2021-09-13T16:16:37.086Z"
   },
   {
    "duration": 29,
    "start_time": "2021-09-13T16:16:52.919Z"
   },
   {
    "duration": 36,
    "start_time": "2021-09-13T17:02:36.135Z"
   },
   {
    "duration": 182,
    "start_time": "2021-09-13T17:06:09.084Z"
   },
   {
    "duration": 56,
    "start_time": "2021-09-13T17:06:13.589Z"
   },
   {
    "duration": 10,
    "start_time": "2021-09-13T17:06:13.647Z"
   },
   {
    "duration": 14,
    "start_time": "2021-09-13T17:06:13.659Z"
   },
   {
    "duration": 3,
    "start_time": "2021-09-13T17:06:13.686Z"
   },
   {
    "duration": 93,
    "start_time": "2021-09-13T17:06:13.691Z"
   },
   {
    "duration": 10,
    "start_time": "2021-09-13T17:06:13.786Z"
   },
   {
    "duration": 5,
    "start_time": "2021-09-13T17:06:13.797Z"
   },
   {
    "duration": 15,
    "start_time": "2021-09-13T17:06:13.804Z"
   },
   {
    "duration": 3,
    "start_time": "2021-09-13T17:06:13.821Z"
   },
   {
    "duration": 74,
    "start_time": "2021-09-13T17:06:13.826Z"
   },
   {
    "duration": 4,
    "start_time": "2021-09-13T17:06:13.902Z"
   },
   {
    "duration": 5966,
    "start_time": "2021-09-13T17:06:13.908Z"
   },
   {
    "duration": 48,
    "start_time": "2021-09-13T17:06:19.877Z"
   },
   {
    "duration": 181,
    "start_time": "2021-09-13T17:06:19.927Z"
   },
   {
    "duration": 54,
    "start_time": "2021-09-13T17:06:20.056Z"
   },
   {
    "duration": 16,
    "start_time": "2021-09-13T17:06:20.095Z"
   },
   {
    "duration": 185,
    "start_time": "2021-09-13T17:06:58.339Z"
   },
   {
    "duration": 202,
    "start_time": "2021-09-13T17:07:29.982Z"
   },
   {
    "duration": 57,
    "start_time": "2021-09-13T17:07:47.302Z"
   },
   {
    "duration": 9,
    "start_time": "2021-09-13T17:07:47.361Z"
   },
   {
    "duration": 13,
    "start_time": "2021-09-13T17:07:47.372Z"
   },
   {
    "duration": 4,
    "start_time": "2021-09-13T17:07:47.387Z"
   },
   {
    "duration": 95,
    "start_time": "2021-09-13T17:07:47.392Z"
   },
   {
    "duration": 10,
    "start_time": "2021-09-13T17:07:47.489Z"
   },
   {
    "duration": 4,
    "start_time": "2021-09-13T17:07:47.501Z"
   },
   {
    "duration": 17,
    "start_time": "2021-09-13T17:07:47.508Z"
   },
   {
    "duration": 4,
    "start_time": "2021-09-13T17:07:47.527Z"
   },
   {
    "duration": 75,
    "start_time": "2021-09-13T17:07:47.532Z"
   },
   {
    "duration": 5,
    "start_time": "2021-09-13T17:07:47.608Z"
   },
   {
    "duration": 6058,
    "start_time": "2021-09-13T17:07:47.614Z"
   },
   {
    "duration": 50,
    "start_time": "2021-09-13T17:07:53.674Z"
   },
   {
    "duration": 191,
    "start_time": "2021-09-13T17:07:53.726Z"
   },
   {
    "duration": 41,
    "start_time": "2021-09-13T17:07:53.878Z"
   },
   {
    "duration": 40,
    "start_time": "2021-09-13T17:07:53.881Z"
   },
   {
    "duration": 180,
    "start_time": "2021-09-13T17:08:46.139Z"
   },
   {
    "duration": 167,
    "start_time": "2021-09-13T17:09:02.051Z"
   },
   {
    "duration": 179,
    "start_time": "2021-09-13T17:09:47.295Z"
   },
   {
    "duration": 178,
    "start_time": "2021-09-13T17:10:18.944Z"
   },
   {
    "duration": 176,
    "start_time": "2021-09-13T17:11:05.983Z"
   },
   {
    "duration": 175,
    "start_time": "2021-09-13T17:11:35.772Z"
   },
   {
    "duration": 59,
    "start_time": "2021-09-13T17:11:43.830Z"
   },
   {
    "duration": 10,
    "start_time": "2021-09-13T17:11:43.890Z"
   },
   {
    "duration": 29,
    "start_time": "2021-09-13T17:11:43.902Z"
   },
   {
    "duration": 4,
    "start_time": "2021-09-13T17:11:43.933Z"
   },
   {
    "duration": 97,
    "start_time": "2021-09-13T17:11:43.938Z"
   },
   {
    "duration": 10,
    "start_time": "2021-09-13T17:11:44.037Z"
   },
   {
    "duration": 8,
    "start_time": "2021-09-13T17:11:44.049Z"
   },
   {
    "duration": 26,
    "start_time": "2021-09-13T17:11:44.059Z"
   },
   {
    "duration": 4,
    "start_time": "2021-09-13T17:11:44.086Z"
   },
   {
    "duration": 53,
    "start_time": "2021-09-13T17:11:44.092Z"
   },
   {
    "duration": 4,
    "start_time": "2021-09-13T17:11:44.147Z"
   },
   {
    "duration": 6086,
    "start_time": "2021-09-13T17:11:44.153Z"
   },
   {
    "duration": 51,
    "start_time": "2021-09-13T17:11:50.241Z"
   },
   {
    "duration": 4,
    "start_time": "2021-09-13T17:11:50.293Z"
   },
   {
    "duration": 9,
    "start_time": "2021-09-13T17:11:50.299Z"
   },
   {
    "duration": 11,
    "start_time": "2021-09-13T17:11:50.309Z"
   },
   {
    "duration": 8,
    "start_time": "2021-09-13T17:11:50.321Z"
   },
   {
    "duration": 24,
    "start_time": "2021-09-13T17:12:24.847Z"
   },
   {
    "duration": 25,
    "start_time": "2021-09-13T17:12:28.832Z"
   },
   {
    "duration": 6096,
    "start_time": "2021-09-13T17:13:23.231Z"
   },
   {
    "duration": 62,
    "start_time": "2021-09-13T17:13:30.750Z"
   },
   {
    "duration": 11,
    "start_time": "2021-09-13T17:13:30.814Z"
   },
   {
    "duration": 16,
    "start_time": "2021-09-13T17:13:30.827Z"
   },
   {
    "duration": 4,
    "start_time": "2021-09-13T17:13:30.845Z"
   },
   {
    "duration": 109,
    "start_time": "2021-09-13T17:13:30.850Z"
   },
   {
    "duration": 10,
    "start_time": "2021-09-13T17:13:30.961Z"
   },
   {
    "duration": 15,
    "start_time": "2021-09-13T17:13:30.973Z"
   },
   {
    "duration": 19,
    "start_time": "2021-09-13T17:13:30.989Z"
   },
   {
    "duration": 7,
    "start_time": "2021-09-13T17:13:31.011Z"
   },
   {
    "duration": 71,
    "start_time": "2021-09-13T17:13:31.020Z"
   },
   {
    "duration": 4,
    "start_time": "2021-09-13T17:13:31.093Z"
   },
   {
    "duration": 5863,
    "start_time": "2021-09-13T17:13:31.099Z"
   },
   {
    "duration": 48,
    "start_time": "2021-09-13T17:13:36.964Z"
   },
   {
    "duration": 21,
    "start_time": "2021-09-13T17:13:37.013Z"
   },
   {
    "duration": 6,
    "start_time": "2021-09-13T17:13:37.036Z"
   },
   {
    "duration": 64,
    "start_time": "2021-09-13T17:14:06.240Z"
   },
   {
    "duration": 10,
    "start_time": "2021-09-13T17:14:06.305Z"
   },
   {
    "duration": 21,
    "start_time": "2021-09-13T17:14:06.317Z"
   },
   {
    "duration": 4,
    "start_time": "2021-09-13T17:14:06.340Z"
   },
   {
    "duration": 99,
    "start_time": "2021-09-13T17:14:06.345Z"
   },
   {
    "duration": 11,
    "start_time": "2021-09-13T17:14:06.445Z"
   },
   {
    "duration": 5,
    "start_time": "2021-09-13T17:14:06.457Z"
   },
   {
    "duration": 26,
    "start_time": "2021-09-13T17:14:06.463Z"
   },
   {
    "duration": 4,
    "start_time": "2021-09-13T17:14:06.492Z"
   },
   {
    "duration": 54,
    "start_time": "2021-09-13T17:14:06.497Z"
   },
   {
    "duration": 5,
    "start_time": "2021-09-13T17:14:06.552Z"
   },
   {
    "duration": 6108,
    "start_time": "2021-09-13T17:14:06.558Z"
   },
   {
    "duration": 47,
    "start_time": "2021-09-13T17:14:12.668Z"
   },
   {
    "duration": 22,
    "start_time": "2021-09-13T17:14:12.717Z"
   },
   {
    "duration": 6,
    "start_time": "2021-09-13T17:14:12.741Z"
   },
   {
    "duration": 846,
    "start_time": "2021-09-14T08:53:52.202Z"
   },
   {
    "duration": 15,
    "start_time": "2021-09-14T08:53:53.051Z"
   },
   {
    "duration": 19,
    "start_time": "2021-09-14T08:53:53.083Z"
   },
   {
    "duration": 6,
    "start_time": "2021-09-14T08:53:53.105Z"
   },
   {
    "duration": 151,
    "start_time": "2021-09-14T08:53:53.113Z"
   },
   {
    "duration": 23,
    "start_time": "2021-09-14T08:53:53.266Z"
   },
   {
    "duration": 7,
    "start_time": "2021-09-14T08:53:53.291Z"
   },
   {
    "duration": 24,
    "start_time": "2021-09-14T08:53:53.302Z"
   },
   {
    "duration": 5,
    "start_time": "2021-09-14T08:53:53.328Z"
   },
   {
    "duration": 103,
    "start_time": "2021-09-14T08:53:53.336Z"
   },
   {
    "duration": 7,
    "start_time": "2021-09-14T08:53:53.442Z"
   },
   {
    "duration": 7816,
    "start_time": "2021-09-14T08:53:53.451Z"
   },
   {
    "duration": 66,
    "start_time": "2021-09-14T08:54:01.269Z"
   },
   {
    "duration": 56,
    "start_time": "2021-09-14T08:54:01.338Z"
   },
   {
    "duration": 11,
    "start_time": "2021-09-14T08:54:01.396Z"
   },
   {
    "duration": 8,
    "start_time": "2021-09-14T12:29:55.052Z"
   },
   {
    "duration": 8,
    "start_time": "2021-09-14T12:31:44.680Z"
   },
   {
    "duration": 19,
    "start_time": "2021-09-14T12:32:49.042Z"
   },
   {
    "duration": -10178,
    "start_time": "2021-09-14T12:33:20.766Z"
   },
   {
    "duration": 2807,
    "start_time": "2021-09-14T12:33:30.278Z"
   },
   {
    "duration": 10,
    "start_time": "2021-09-14T12:33:43.886Z"
   },
   {
    "duration": 3094,
    "start_time": "2021-09-14T12:33:50.198Z"
   },
   {
    "duration": 708,
    "start_time": "2021-09-14T12:34:36.264Z"
   },
   {
    "duration": 5,
    "start_time": "2021-09-14T12:34:40.801Z"
   },
   {
    "duration": 6,
    "start_time": "2021-09-14T12:34:52.154Z"
   },
   {
    "duration": 8,
    "start_time": "2021-09-14T12:35:27.294Z"
   },
   {
    "duration": 8,
    "start_time": "2021-09-14T13:02:59.319Z"
   },
   {
    "duration": 8618,
    "start_time": "2021-09-14T13:03:46.367Z"
   },
   {
    "duration": 7,
    "start_time": "2021-09-14T13:04:06.598Z"
   },
   {
    "duration": 8,
    "start_time": "2021-09-14T13:04:10.258Z"
   },
   {
    "duration": 11,
    "start_time": "2021-09-14T13:04:14.355Z"
   },
   {
    "duration": 8,
    "start_time": "2021-09-14T13:04:33.751Z"
   },
   {
    "duration": 8,
    "start_time": "2021-09-14T13:04:50.873Z"
   },
   {
    "duration": 10,
    "start_time": "2021-09-14T13:05:12.276Z"
   },
   {
    "duration": 369,
    "start_time": "2021-09-14T13:05:43.381Z"
   },
   {
    "duration": 12,
    "start_time": "2021-09-14T13:05:49.248Z"
   },
   {
    "duration": 11,
    "start_time": "2021-09-14T13:06:14.936Z"
   },
   {
    "duration": 56,
    "start_time": "2021-09-14T13:24:34.837Z"
   },
   {
    "duration": 85,
    "start_time": "2021-09-14T13:35:12.735Z"
   },
   {
    "duration": 78,
    "start_time": "2021-09-14T14:42:37.770Z"
   },
   {
    "duration": 34,
    "start_time": "2021-09-14T14:42:37.850Z"
   },
   {
    "duration": 19,
    "start_time": "2021-09-14T14:42:37.887Z"
   },
   {
    "duration": 8,
    "start_time": "2021-09-14T14:42:37.909Z"
   },
   {
    "duration": 152,
    "start_time": "2021-09-14T14:42:37.919Z"
   },
   {
    "duration": 18,
    "start_time": "2021-09-14T14:42:38.074Z"
   },
   {
    "duration": 7,
    "start_time": "2021-09-14T14:42:38.095Z"
   },
   {
    "duration": 15,
    "start_time": "2021-09-14T14:42:38.105Z"
   },
   {
    "duration": 5,
    "start_time": "2021-09-14T14:42:38.123Z"
   },
   {
    "duration": 114,
    "start_time": "2021-09-14T14:42:38.131Z"
   },
   {
    "duration": 7,
    "start_time": "2021-09-14T14:42:38.247Z"
   },
   {
    "duration": 7716,
    "start_time": "2021-09-14T14:42:38.256Z"
   },
   {
    "duration": 56,
    "start_time": "2021-09-14T14:42:45.983Z"
   },
   {
    "duration": 57,
    "start_time": "2021-09-14T14:42:46.042Z"
   },
   {
    "duration": 97,
    "start_time": "2021-09-14T14:42:46.101Z"
   },
   {
    "duration": 24,
    "start_time": "2021-09-14T14:42:46.200Z"
   },
   {
    "duration": 26,
    "start_time": "2021-09-14T14:42:46.226Z"
   },
   {
    "duration": 34,
    "start_time": "2021-09-14T14:44:36.064Z"
   },
   {
    "duration": 369,
    "start_time": "2021-09-14T14:56:43.846Z"
   },
   {
    "duration": 321,
    "start_time": "2021-09-14T16:06:41.072Z"
   },
   {
    "duration": 556,
    "start_time": "2021-09-14T16:15:03.335Z"
   },
   {
    "duration": 625,
    "start_time": "2021-09-14T16:15:38.862Z"
   },
   {
    "duration": 361,
    "start_time": "2021-09-14T16:15:45.652Z"
   },
   {
    "duration": 357,
    "start_time": "2021-09-14T16:15:56.295Z"
   },
   {
    "duration": 110,
    "start_time": "2021-09-14T16:24:49.435Z"
   },
   {
    "duration": 77,
    "start_time": "2021-09-14T16:32:17.460Z"
   },
   {
    "duration": 13,
    "start_time": "2021-09-14T16:32:17.540Z"
   },
   {
    "duration": 40,
    "start_time": "2021-09-14T16:32:17.555Z"
   },
   {
    "duration": 5,
    "start_time": "2021-09-14T16:32:17.598Z"
   },
   {
    "duration": 145,
    "start_time": "2021-09-14T16:32:17.605Z"
   },
   {
    "duration": 14,
    "start_time": "2021-09-14T16:32:17.753Z"
   },
   {
    "duration": 8,
    "start_time": "2021-09-14T16:32:17.782Z"
   },
   {
    "duration": 20,
    "start_time": "2021-09-14T16:32:17.793Z"
   },
   {
    "duration": 5,
    "start_time": "2021-09-14T16:32:17.817Z"
   },
   {
    "duration": 104,
    "start_time": "2021-09-14T16:32:17.824Z"
   },
   {
    "duration": 6,
    "start_time": "2021-09-14T16:32:17.931Z"
   },
   {
    "duration": 10547,
    "start_time": "2021-09-14T16:32:17.939Z"
   },
   {
    "duration": 61,
    "start_time": "2021-09-14T16:32:28.489Z"
   },
   {
    "duration": 62,
    "start_time": "2021-09-14T16:32:28.553Z"
   },
   {
    "duration": 114,
    "start_time": "2021-09-14T16:32:28.618Z"
   },
   {
    "duration": 420,
    "start_time": "2021-09-14T16:32:28.734Z"
   },
   {
    "duration": 29,
    "start_time": "2021-09-14T16:32:29.157Z"
   },
   {
    "duration": 364,
    "start_time": "2021-09-14T16:38:26.009Z"
   },
   {
    "duration": 361,
    "start_time": "2021-09-14T16:43:10.733Z"
   },
   {
    "duration": 325,
    "start_time": "2021-09-14T16:43:31.643Z"
   },
   {
    "duration": 77,
    "start_time": "2021-09-14T16:46:17.011Z"
   },
   {
    "duration": 45,
    "start_time": "2021-09-14T16:49:00.461Z"
   },
   {
    "duration": 51,
    "start_time": "2021-09-14T16:50:22.529Z"
   },
   {
    "duration": 51,
    "start_time": "2021-09-14T16:50:28.121Z"
   },
   {
    "duration": 51,
    "start_time": "2021-09-14T16:50:55.768Z"
   },
   {
    "duration": 52,
    "start_time": "2021-09-14T16:51:13.616Z"
   },
   {
    "duration": 49,
    "start_time": "2021-09-14T16:51:18.493Z"
   },
   {
    "duration": 52,
    "start_time": "2021-09-14T16:52:35.086Z"
   },
   {
    "duration": 118,
    "start_time": "2021-09-14T17:23:39.821Z"
   },
   {
    "duration": 41,
    "start_time": "2021-09-14T17:24:26.022Z"
   },
   {
    "duration": 11,
    "start_time": "2021-09-14T17:24:34.412Z"
   },
   {
    "duration": 12,
    "start_time": "2021-09-14T17:25:00.002Z"
   },
   {
    "duration": 362,
    "start_time": "2021-09-14T17:27:32.899Z"
   },
   {
    "duration": 15,
    "start_time": "2021-09-14T17:27:45.398Z"
   },
   {
    "duration": 15,
    "start_time": "2021-09-14T17:28:05.966Z"
   },
   {
    "duration": 44,
    "start_time": "2021-09-14T17:32:52.100Z"
   },
   {
    "duration": 12,
    "start_time": "2021-09-14T17:40:10.028Z"
   },
   {
    "duration": 45,
    "start_time": "2021-09-14T17:40:30.899Z"
   },
   {
    "duration": 39,
    "start_time": "2021-09-14T17:45:07.593Z"
   },
   {
    "duration": 53,
    "start_time": "2021-09-14T17:46:01.698Z"
   },
   {
    "duration": 79,
    "start_time": "2021-09-14T17:46:08.467Z"
   },
   {
    "duration": 34,
    "start_time": "2021-09-14T17:46:08.549Z"
   },
   {
    "duration": 26,
    "start_time": "2021-09-14T17:46:08.586Z"
   },
   {
    "duration": 5,
    "start_time": "2021-09-14T17:46:08.615Z"
   },
   {
    "duration": 153,
    "start_time": "2021-09-14T17:46:08.622Z"
   },
   {
    "duration": 18,
    "start_time": "2021-09-14T17:46:08.783Z"
   },
   {
    "duration": 8,
    "start_time": "2021-09-14T17:46:08.804Z"
   },
   {
    "duration": 21,
    "start_time": "2021-09-14T17:46:08.814Z"
   },
   {
    "duration": 5,
    "start_time": "2021-09-14T17:46:08.839Z"
   },
   {
    "duration": 116,
    "start_time": "2021-09-14T17:46:08.846Z"
   },
   {
    "duration": 23,
    "start_time": "2021-09-14T17:46:08.965Z"
   },
   {
    "duration": 7929,
    "start_time": "2021-09-14T17:46:08.990Z"
   },
   {
    "duration": 69,
    "start_time": "2021-09-14T17:46:16.921Z"
   },
   {
    "duration": 51,
    "start_time": "2021-09-14T17:46:16.993Z"
   },
   {
    "duration": 97,
    "start_time": "2021-09-14T17:46:17.046Z"
   },
   {
    "duration": 332,
    "start_time": "2021-09-14T17:46:17.145Z"
   },
   {
    "duration": 42,
    "start_time": "2021-09-14T17:46:17.482Z"
   },
   {
    "duration": 59,
    "start_time": "2021-09-14T17:46:17.526Z"
   },
   {
    "duration": 11,
    "start_time": "2021-09-14T17:46:17.588Z"
   },
   {
    "duration": 15,
    "start_time": "2021-09-14T17:46:17.601Z"
   },
   {
    "duration": 19,
    "start_time": "2021-09-14T17:46:17.620Z"
   },
   {
    "duration": 36,
    "start_time": "2021-09-14T17:47:29.574Z"
   },
   {
    "duration": 377,
    "start_time": "2021-09-14T17:48:07.010Z"
   },
   {
    "duration": 37,
    "start_time": "2021-09-14T17:48:14.748Z"
   },
   {
    "duration": 11,
    "start_time": "2021-09-14T17:54:47.392Z"
   },
   {
    "duration": 9064,
    "start_time": "2021-09-14T18:00:20.043Z"
   },
   {
    "duration": 9,
    "start_time": "2021-09-14T18:00:57.337Z"
   },
   {
    "duration": 72,
    "start_time": "2021-09-14T18:12:22.395Z"
   },
   {
    "duration": 76,
    "start_time": "2021-09-14T18:12:22.470Z"
   },
   {
    "duration": 20,
    "start_time": "2021-09-14T18:12:22.548Z"
   },
   {
    "duration": 5,
    "start_time": "2021-09-14T18:12:22.571Z"
   },
   {
    "duration": 134,
    "start_time": "2021-09-14T18:12:22.578Z"
   },
   {
    "duration": 15,
    "start_time": "2021-09-14T18:12:22.714Z"
   },
   {
    "duration": 8,
    "start_time": "2021-09-14T18:12:22.731Z"
   },
   {
    "duration": 39,
    "start_time": "2021-09-14T18:12:22.743Z"
   },
   {
    "duration": 6,
    "start_time": "2021-09-14T18:12:22.785Z"
   },
   {
    "duration": 97,
    "start_time": "2021-09-14T18:12:22.793Z"
   },
   {
    "duration": 7,
    "start_time": "2021-09-14T18:12:22.892Z"
   },
   {
    "duration": 7939,
    "start_time": "2021-09-14T18:12:22.902Z"
   },
   {
    "duration": 77,
    "start_time": "2021-09-14T18:12:30.844Z"
   },
   {
    "duration": 68,
    "start_time": "2021-09-14T18:12:30.924Z"
   },
   {
    "duration": 76,
    "start_time": "2021-09-14T18:12:30.994Z"
   },
   {
    "duration": 337,
    "start_time": "2021-09-14T18:12:31.073Z"
   },
   {
    "duration": 40,
    "start_time": "2021-09-14T18:12:31.413Z"
   },
   {
    "duration": 49,
    "start_time": "2021-09-14T18:12:31.456Z"
   },
   {
    "duration": 12,
    "start_time": "2021-09-14T18:12:31.507Z"
   },
   {
    "duration": 16,
    "start_time": "2021-09-14T18:12:31.521Z"
   },
   {
    "duration": 45,
    "start_time": "2021-09-14T18:12:31.539Z"
   },
   {
    "duration": 13,
    "start_time": "2021-09-14T18:12:31.587Z"
   },
   {
    "duration": 6,
    "start_time": "2021-09-14T18:20:21.505Z"
   },
   {
    "duration": 38,
    "start_time": "2021-09-14T18:20:52.123Z"
   },
   {
    "duration": 11,
    "start_time": "2021-09-14T18:21:08.412Z"
   },
   {
    "duration": 103,
    "start_time": "2021-09-14T18:21:40.466Z"
   },
   {
    "duration": 130,
    "start_time": "2021-09-14T18:23:21.388Z"
   },
   {
    "duration": 9,
    "start_time": "2021-09-14T18:25:03.630Z"
   },
   {
    "duration": 112,
    "start_time": "2021-09-14T18:39:39.037Z"
   },
   {
    "duration": 39,
    "start_time": "2021-09-14T18:39:39.152Z"
   },
   {
    "duration": 19,
    "start_time": "2021-09-14T18:39:39.195Z"
   },
   {
    "duration": 7,
    "start_time": "2021-09-14T18:39:39.218Z"
   },
   {
    "duration": 178,
    "start_time": "2021-09-14T18:39:39.228Z"
   },
   {
    "duration": 15,
    "start_time": "2021-09-14T18:39:39.408Z"
   },
   {
    "duration": 8,
    "start_time": "2021-09-14T18:39:39.526Z"
   },
   {
    "duration": 22,
    "start_time": "2021-09-14T18:39:39.536Z"
   },
   {
    "duration": 6,
    "start_time": "2021-09-14T18:39:39.561Z"
   },
   {
    "duration": 103,
    "start_time": "2021-09-14T18:39:39.570Z"
   },
   {
    "duration": 8,
    "start_time": "2021-09-14T18:39:39.676Z"
   },
   {
    "duration": 8742,
    "start_time": "2021-09-14T18:39:39.687Z"
   },
   {
    "duration": 55,
    "start_time": "2021-09-14T18:39:48.431Z"
   },
   {
    "duration": 50,
    "start_time": "2021-09-14T18:39:48.488Z"
   },
   {
    "duration": 93,
    "start_time": "2021-09-14T18:39:48.541Z"
   },
   {
    "duration": 354,
    "start_time": "2021-09-14T18:39:48.637Z"
   },
   {
    "duration": 44,
    "start_time": "2021-09-14T18:39:48.994Z"
   },
   {
    "duration": 62,
    "start_time": "2021-09-14T18:39:49.041Z"
   },
   {
    "duration": 11,
    "start_time": "2021-09-14T18:39:49.106Z"
   },
   {
    "duration": 18,
    "start_time": "2021-09-14T18:39:49.120Z"
   },
   {
    "duration": 17,
    "start_time": "2021-09-14T18:39:49.141Z"
   },
   {
    "duration": 40,
    "start_time": "2021-09-14T18:39:49.161Z"
   },
   {
    "duration": 19,
    "start_time": "2021-09-14T18:39:49.204Z"
   },
   {
    "duration": 503,
    "start_time": "2021-09-14T18:45:56.223Z"
   },
   {
    "duration": 87,
    "start_time": "2021-09-14T18:46:09.384Z"
   },
   {
    "duration": 20,
    "start_time": "2021-09-14T18:46:09.473Z"
   },
   {
    "duration": 20,
    "start_time": "2021-09-14T18:46:09.497Z"
   },
   {
    "duration": 56,
    "start_time": "2021-09-14T18:46:09.520Z"
   },
   {
    "duration": 148,
    "start_time": "2021-09-14T18:46:09.578Z"
   },
   {
    "duration": 14,
    "start_time": "2021-09-14T18:46:09.729Z"
   },
   {
    "duration": 73,
    "start_time": "2021-09-14T18:46:09.745Z"
   },
   {
    "duration": 102,
    "start_time": "2021-09-14T18:46:09.820Z"
   },
   {
    "duration": 5,
    "start_time": "2021-09-14T18:46:09.926Z"
   },
   {
    "duration": 95,
    "start_time": "2021-09-14T18:46:09.934Z"
   },
   {
    "duration": 7,
    "start_time": "2021-09-14T18:46:10.032Z"
   },
   {
    "duration": 9615,
    "start_time": "2021-09-14T18:46:10.041Z"
   },
   {
    "duration": 51,
    "start_time": "2021-09-14T18:46:19.684Z"
   },
   {
    "duration": 73,
    "start_time": "2021-09-14T18:46:19.737Z"
   },
   {
    "duration": 91,
    "start_time": "2021-09-14T18:46:19.812Z"
   },
   {
    "duration": 353,
    "start_time": "2021-09-14T18:46:19.905Z"
   },
   {
    "duration": 58,
    "start_time": "2021-09-14T18:46:20.261Z"
   },
   {
    "duration": 34,
    "start_time": "2021-09-14T18:46:20.322Z"
   },
   {
    "duration": 53,
    "start_time": "2021-09-14T18:46:20.359Z"
   },
   {
    "duration": 90,
    "start_time": "2021-09-14T18:46:20.415Z"
   },
   {
    "duration": 47,
    "start_time": "2021-09-14T18:46:20.508Z"
   },
   {
    "duration": 28,
    "start_time": "2021-09-14T18:46:20.558Z"
   },
   {
    "duration": 130,
    "start_time": "2021-09-14T18:46:20.589Z"
   },
   {
    "duration": 886,
    "start_time": "2021-09-14T22:29:23.655Z"
   },
   {
    "duration": 14,
    "start_time": "2021-09-14T22:29:24.544Z"
   },
   {
    "duration": 23,
    "start_time": "2021-09-14T22:29:24.563Z"
   },
   {
    "duration": 5,
    "start_time": "2021-09-14T22:29:24.588Z"
   },
   {
    "duration": 152,
    "start_time": "2021-09-14T22:29:24.596Z"
   },
   {
    "duration": 21,
    "start_time": "2021-09-14T22:29:24.750Z"
   },
   {
    "duration": 7,
    "start_time": "2021-09-14T22:29:24.774Z"
   },
   {
    "duration": 26,
    "start_time": "2021-09-14T22:29:24.783Z"
   },
   {
    "duration": 6,
    "start_time": "2021-09-14T22:29:24.812Z"
   },
   {
    "duration": 105,
    "start_time": "2021-09-14T22:29:24.821Z"
   },
   {
    "duration": 7,
    "start_time": "2021-09-14T22:29:24.929Z"
   },
   {
    "duration": 8052,
    "start_time": "2021-09-14T22:29:24.939Z"
   },
   {
    "duration": 50,
    "start_time": "2021-09-14T22:29:32.994Z"
   },
   {
    "duration": 50,
    "start_time": "2021-09-14T22:29:33.061Z"
   },
   {
    "duration": 92,
    "start_time": "2021-09-14T22:29:33.113Z"
   },
   {
    "duration": 333,
    "start_time": "2021-09-14T22:29:33.207Z"
   },
   {
    "duration": 48,
    "start_time": "2021-09-14T22:29:33.543Z"
   },
   {
    "duration": 34,
    "start_time": "2021-09-14T22:29:33.594Z"
   },
   {
    "duration": 11,
    "start_time": "2021-09-14T22:29:33.630Z"
   },
   {
    "duration": 11,
    "start_time": "2021-09-14T22:29:33.663Z"
   },
   {
    "duration": 54,
    "start_time": "2021-09-14T22:29:33.676Z"
   },
   {
    "duration": 19,
    "start_time": "2021-09-14T22:29:33.733Z"
   },
   {
    "duration": 15,
    "start_time": "2021-09-14T22:29:33.755Z"
   },
   {
    "duration": 287,
    "start_time": "2021-09-15T13:22:01.242Z"
   },
   {
    "duration": 601,
    "start_time": "2021-09-15T13:22:34.975Z"
   },
   {
    "duration": 10,
    "start_time": "2021-09-15T13:22:35.577Z"
   },
   {
    "duration": 11,
    "start_time": "2021-09-15T13:22:35.589Z"
   },
   {
    "duration": 3,
    "start_time": "2021-09-15T13:22:35.602Z"
   },
   {
    "duration": 104,
    "start_time": "2021-09-15T13:22:35.607Z"
   },
   {
    "duration": 10,
    "start_time": "2021-09-15T13:22:35.712Z"
   },
   {
    "duration": 5,
    "start_time": "2021-09-15T13:22:35.723Z"
   },
   {
    "duration": 10,
    "start_time": "2021-09-15T13:22:35.742Z"
   },
   {
    "duration": 4,
    "start_time": "2021-09-15T13:22:35.754Z"
   },
   {
    "duration": 50,
    "start_time": "2021-09-15T13:22:35.760Z"
   },
   {
    "duration": 5,
    "start_time": "2021-09-15T13:22:35.812Z"
   },
   {
    "duration": 6266,
    "start_time": "2021-09-15T13:22:35.840Z"
   },
   {
    "duration": 50,
    "start_time": "2021-09-15T13:22:42.108Z"
   },
   {
    "duration": 35,
    "start_time": "2021-09-15T13:22:42.160Z"
   },
   {
    "duration": 71,
    "start_time": "2021-09-15T13:22:42.197Z"
   },
   {
    "duration": 222,
    "start_time": "2021-09-15T13:22:42.270Z"
   },
   {
    "duration": 28,
    "start_time": "2021-09-15T13:22:42.494Z"
   },
   {
    "duration": 35,
    "start_time": "2021-09-15T13:22:42.524Z"
   },
   {
    "duration": 295,
    "start_time": "2021-09-15T13:22:42.561Z"
   },
   {
    "duration": -27,
    "start_time": "2021-09-15T13:22:42.885Z"
   },
   {
    "duration": -30,
    "start_time": "2021-09-15T13:22:42.888Z"
   },
   {
    "duration": -32,
    "start_time": "2021-09-15T13:22:42.891Z"
   },
   {
    "duration": -58,
    "start_time": "2021-09-15T13:22:42.918Z"
   },
   {
    "duration": 889,
    "start_time": "2021-09-15T13:23:48.128Z"
   },
   {
    "duration": 294,
    "start_time": "2021-09-15T13:27:32.383Z"
   },
   {
    "duration": 14,
    "start_time": "2021-09-15T13:27:36.914Z"
   },
   {
    "duration": 188,
    "start_time": "2021-09-15T13:28:06.166Z"
   },
   {
    "duration": 19,
    "start_time": "2021-09-15T13:28:30.792Z"
   },
   {
    "duration": 296,
    "start_time": "2021-09-15T13:33:02.864Z"
   },
   {
    "duration": 18,
    "start_time": "2021-09-15T13:33:11.161Z"
   },
   {
    "duration": 17,
    "start_time": "2021-09-15T13:33:19.994Z"
   },
   {
    "duration": 13,
    "start_time": "2021-09-15T13:33:51.677Z"
   },
   {
    "duration": 911,
    "start_time": "2021-09-15T13:40:12.549Z"
   },
   {
    "duration": 11,
    "start_time": "2021-09-15T13:40:44.317Z"
   },
   {
    "duration": 11,
    "start_time": "2021-09-15T13:46:15.393Z"
   },
   {
    "duration": 20,
    "start_time": "2021-09-15T13:47:02.475Z"
   },
   {
    "duration": 21,
    "start_time": "2021-09-15T13:47:17.567Z"
   },
   {
    "duration": 92,
    "start_time": "2021-09-15T13:48:04.471Z"
   },
   {
    "duration": 22,
    "start_time": "2021-09-15T13:48:20.035Z"
   },
   {
    "duration": 30,
    "start_time": "2021-09-15T13:51:12.516Z"
   },
   {
    "duration": 7451,
    "start_time": "2021-09-15T13:55:38.922Z"
   },
   {
    "duration": 12,
    "start_time": "2021-09-15T13:56:09.369Z"
   },
   {
    "duration": 12,
    "start_time": "2021-09-15T13:56:23.405Z"
   },
   {
    "duration": 15,
    "start_time": "2021-09-15T13:56:27.166Z"
   },
   {
    "duration": 9195,
    "start_time": "2021-09-15T13:57:29.550Z"
   },
   {
    "duration": 26,
    "start_time": "2021-09-15T13:58:01.022Z"
   },
   {
    "duration": 23,
    "start_time": "2021-09-15T13:58:24.926Z"
   },
   {
    "duration": 23,
    "start_time": "2021-09-15T13:59:00.737Z"
   },
   {
    "duration": 319,
    "start_time": "2021-09-15T14:04:19.852Z"
   },
   {
    "duration": 59,
    "start_time": "2021-09-15T14:04:28.729Z"
   },
   {
    "duration": 301,
    "start_time": "2021-09-15T14:04:51.144Z"
   },
   {
    "duration": 23,
    "start_time": "2021-09-15T14:05:09.410Z"
   },
   {
    "duration": 25,
    "start_time": "2021-09-15T14:05:48.925Z"
   },
   {
    "duration": 23,
    "start_time": "2021-09-15T14:10:56.502Z"
   },
   {
    "duration": 56,
    "start_time": "2021-09-15T14:11:34.429Z"
   },
   {
    "duration": 10,
    "start_time": "2021-09-15T14:11:34.487Z"
   },
   {
    "duration": 11,
    "start_time": "2021-09-15T14:11:34.500Z"
   },
   {
    "duration": 28,
    "start_time": "2021-09-15T14:11:34.513Z"
   },
   {
    "duration": 82,
    "start_time": "2021-09-15T14:11:34.543Z"
   },
   {
    "duration": 24,
    "start_time": "2021-09-15T14:11:34.627Z"
   },
   {
    "duration": 5,
    "start_time": "2021-09-15T14:11:34.653Z"
   },
   {
    "duration": 12,
    "start_time": "2021-09-15T14:11:34.661Z"
   },
   {
    "duration": 4,
    "start_time": "2021-09-15T14:11:34.675Z"
   },
   {
    "duration": 82,
    "start_time": "2021-09-15T14:11:34.681Z"
   },
   {
    "duration": 5,
    "start_time": "2021-09-15T14:11:34.765Z"
   },
   {
    "duration": 6392,
    "start_time": "2021-09-15T14:11:34.771Z"
   },
   {
    "duration": 32,
    "start_time": "2021-09-15T14:11:41.165Z"
   },
   {
    "duration": 47,
    "start_time": "2021-09-15T14:11:41.199Z"
   },
   {
    "duration": 55,
    "start_time": "2021-09-15T14:11:41.247Z"
   },
   {
    "duration": 247,
    "start_time": "2021-09-15T14:11:41.304Z"
   },
   {
    "duration": 29,
    "start_time": "2021-09-15T14:11:41.553Z"
   },
   {
    "duration": 24,
    "start_time": "2021-09-15T14:11:41.584Z"
   },
   {
    "duration": 42,
    "start_time": "2021-09-15T14:11:41.609Z"
   },
   {
    "duration": 7,
    "start_time": "2021-09-15T14:11:41.653Z"
   },
   {
    "duration": 14,
    "start_time": "2021-09-15T14:11:41.662Z"
   },
   {
    "duration": 16,
    "start_time": "2021-09-15T14:11:41.677Z"
   },
   {
    "duration": 9,
    "start_time": "2021-09-15T14:11:41.696Z"
   },
   {
    "duration": 28,
    "start_time": "2021-09-15T15:13:52.347Z"
   },
   {
    "duration": 27,
    "start_time": "2021-09-15T15:14:30.868Z"
   },
   {
    "duration": 29,
    "start_time": "2021-09-15T15:14:44.405Z"
   },
   {
    "duration": 26,
    "start_time": "2021-09-15T15:15:04.493Z"
   },
   {
    "duration": 23,
    "start_time": "2021-09-15T15:15:21.328Z"
   },
   {
    "duration": 24,
    "start_time": "2021-09-15T15:15:29.128Z"
   },
   {
    "duration": 22,
    "start_time": "2021-09-15T15:17:43.958Z"
   },
   {
    "duration": 23,
    "start_time": "2021-09-15T15:20:17.045Z"
   },
   {
    "duration": 327,
    "start_time": "2021-09-15T15:20:40.563Z"
   },
   {
    "duration": 24,
    "start_time": "2021-09-15T15:20:44.412Z"
   },
   {
    "duration": 25,
    "start_time": "2021-09-15T15:21:08.169Z"
   },
   {
    "duration": 24,
    "start_time": "2021-09-15T15:21:17.616Z"
   },
   {
    "duration": 26,
    "start_time": "2021-09-15T15:25:09.840Z"
   },
   {
    "duration": 35,
    "start_time": "2021-09-15T15:26:32.224Z"
   },
   {
    "duration": 296,
    "start_time": "2021-09-15T15:29:28.070Z"
   },
   {
    "duration": 323,
    "start_time": "2021-09-15T15:29:55.614Z"
   },
   {
    "duration": 370,
    "start_time": "2021-09-15T15:31:25.558Z"
   },
   {
    "duration": 21,
    "start_time": "2021-09-15T15:31:35.320Z"
   },
   {
    "duration": 332,
    "start_time": "2021-09-15T15:31:51.911Z"
   },
   {
    "duration": 21,
    "start_time": "2021-09-15T15:31:59.220Z"
   },
   {
    "duration": 319,
    "start_time": "2021-09-15T15:32:56.879Z"
   },
   {
    "duration": 314,
    "start_time": "2021-09-15T15:33:38.866Z"
   },
   {
    "duration": 20,
    "start_time": "2021-09-15T15:33:49.159Z"
   },
   {
    "duration": 29,
    "start_time": "2021-09-15T15:34:09.943Z"
   },
   {
    "duration": 33,
    "start_time": "2021-09-15T15:34:56.727Z"
   },
   {
    "duration": 7636,
    "start_time": "2021-09-15T15:35:19.225Z"
   },
   {
    "duration": 8793,
    "start_time": "2021-09-15T15:36:11.094Z"
   },
   {
    "duration": 34,
    "start_time": "2021-09-15T15:36:40.138Z"
   },
   {
    "duration": 165,
    "start_time": "2021-09-15T15:39:31.383Z"
   },
   {
    "duration": 126,
    "start_time": "2021-09-15T15:39:52.349Z"
   },
   {
    "duration": 142,
    "start_time": "2021-09-15T15:40:35.434Z"
   },
   {
    "duration": 220,
    "start_time": "2021-09-15T15:47:46.323Z"
   },
   {
    "duration": 323,
    "start_time": "2021-09-15T15:47:52.432Z"
   },
   {
    "duration": 392,
    "start_time": "2021-09-15T15:47:57.085Z"
   },
   {
    "duration": 34,
    "start_time": "2021-09-15T15:48:47.620Z"
   },
   {
    "duration": 329,
    "start_time": "2021-09-15T15:50:50.516Z"
   },
   {
    "duration": 11,
    "start_time": "2021-09-15T15:50:58.021Z"
   },
   {
    "duration": 368,
    "start_time": "2021-09-15T15:51:12.375Z"
   },
   {
    "duration": 25,
    "start_time": "2021-09-15T15:54:12.690Z"
   },
   {
    "duration": 28,
    "start_time": "2021-09-15T15:59:52.392Z"
   },
   {
    "duration": 48,
    "start_time": "2021-09-15T16:03:20.686Z"
   },
   {
    "duration": 7622,
    "start_time": "2021-09-15T16:05:53.403Z"
   },
   {
    "duration": 42,
    "start_time": "2021-09-15T16:06:10.263Z"
   },
   {
    "duration": 95,
    "start_time": "2021-09-15T16:07:23.666Z"
   },
   {
    "duration": 134,
    "start_time": "2021-09-15T16:07:47.113Z"
   },
   {
    "duration": 8813,
    "start_time": "2021-09-15T16:09:10.094Z"
   },
   {
    "duration": 10639,
    "start_time": "2021-09-15T16:09:33.693Z"
   },
   {
    "duration": 55,
    "start_time": "2021-09-15T16:09:54.664Z"
   },
   {
    "duration": 102,
    "start_time": "2021-09-15T16:14:14.440Z"
   },
   {
    "duration": 46,
    "start_time": "2021-09-15T16:14:25.503Z"
   },
   {
    "duration": 69,
    "start_time": "2021-09-15T16:16:25.762Z"
   },
   {
    "duration": 34,
    "start_time": "2021-09-15T16:17:59.630Z"
   },
   {
    "duration": 31,
    "start_time": "2021-09-15T16:18:18.039Z"
   },
   {
    "duration": 25,
    "start_time": "2021-09-15T16:18:28.480Z"
   },
   {
    "duration": 30,
    "start_time": "2021-09-15T16:19:19.400Z"
   },
   {
    "duration": 28,
    "start_time": "2021-09-15T16:19:41.752Z"
   },
   {
    "duration": 31,
    "start_time": "2021-09-15T16:24:59.715Z"
   },
   {
    "duration": 11,
    "start_time": "2021-09-15T16:25:14.425Z"
   },
   {
    "duration": 24,
    "start_time": "2021-09-15T16:25:23.170Z"
   },
   {
    "duration": 57,
    "start_time": "2021-09-15T16:25:45.623Z"
   },
   {
    "duration": 13,
    "start_time": "2021-09-15T16:25:45.683Z"
   },
   {
    "duration": 20,
    "start_time": "2021-09-15T16:25:45.698Z"
   },
   {
    "duration": 24,
    "start_time": "2021-09-15T16:25:45.720Z"
   },
   {
    "duration": 120,
    "start_time": "2021-09-15T16:25:45.746Z"
   },
   {
    "duration": 10,
    "start_time": "2021-09-15T16:25:45.867Z"
   },
   {
    "duration": 19,
    "start_time": "2021-09-15T16:25:45.879Z"
   },
   {
    "duration": 36,
    "start_time": "2021-09-15T16:25:45.900Z"
   },
   {
    "duration": 14,
    "start_time": "2021-09-15T16:25:45.938Z"
   },
   {
    "duration": 70,
    "start_time": "2021-09-15T16:25:45.954Z"
   },
   {
    "duration": 4,
    "start_time": "2021-09-15T16:25:46.026Z"
   },
   {
    "duration": 7177,
    "start_time": "2021-09-15T16:25:46.032Z"
   },
   {
    "duration": 7,
    "start_time": "2021-09-15T16:25:53.211Z"
   },
   {
    "duration": 30,
    "start_time": "2021-09-15T16:25:53.220Z"
   },
   {
    "duration": 67,
    "start_time": "2021-09-15T16:25:53.251Z"
   },
   {
    "duration": 21,
    "start_time": "2021-09-15T16:25:53.321Z"
   },
   {
    "duration": 41,
    "start_time": "2021-09-15T16:25:53.344Z"
   },
   {
    "duration": 36,
    "start_time": "2021-09-15T16:25:53.387Z"
   },
   {
    "duration": 38,
    "start_time": "2021-09-15T16:25:53.424Z"
   },
   {
    "duration": 57,
    "start_time": "2021-09-15T16:25:53.464Z"
   },
   {
    "duration": 55,
    "start_time": "2021-09-15T16:25:53.523Z"
   },
   {
    "duration": 107,
    "start_time": "2021-09-15T16:33:44.857Z"
   }
  ],
  "kernelspec": {
   "display_name": "Python 3 (ipykernel)",
   "language": "python",
   "name": "python3"
  },
  "language_info": {
   "codemirror_mode": {
    "name": "ipython",
    "version": 3
   },
   "file_extension": ".py",
   "mimetype": "text/x-python",
   "name": "python",
   "nbconvert_exporter": "python",
   "pygments_lexer": "ipython3",
   "version": "3.9.7"
  },
  "toc": {
   "base_numbering": 1,
   "nav_menu": {},
   "number_sections": true,
   "sideBar": true,
   "skip_h1_title": true,
   "title_cell": "Table of Contents",
   "title_sidebar": "Contents",
   "toc_cell": false,
   "toc_position": {},
   "toc_section_display": true,
   "toc_window_display": false
  }
 },
 "nbformat": 4,
 "nbformat_minor": 2
}
